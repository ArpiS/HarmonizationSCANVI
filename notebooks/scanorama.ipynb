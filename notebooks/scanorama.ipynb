{
 "cells": [
  {
   "cell_type": "code",
   "execution_count": 3,
   "metadata": {},
   "outputs": [],
   "source": [
    "import os\n",
    "os.chdir(\"/home/ec2-user/scVI/\")\n",
    "os.getcwd()\n",
    "\n",
    "import matplotlib\n",
    "matplotlib.rcParams['pdf.fonttype'] = 42\n",
    "matplotlib.rcParams['ps.fonttype'] = 42\n",
    "import matplotlib.pyplot as plt\n",
    "import seaborn as sns\n",
    "%matplotlib inline\n",
    "\n",
    "from umap import UMAP\n",
    "\n",
    "use_cuda = True\n",
    "from scvi.dataset.scanorama import DatasetSCANORAMA\n",
    "from scvi.dataset.dataset import GeneExpressionDataset\n",
    "import numpy as np\n",
    "import matplotlib\n",
    "matplotlib.rcParams['pdf.fonttype'] = 42\n",
    "matplotlib.rcParams['ps.fonttype'] = 42\n",
    "import matplotlib.pyplot as plt\n",
    "import seaborn as sns\n",
    "from scvi.metrics.clustering import select_indices_evenly\n",
    "from sklearn.manifold import TSNE\n",
    "dirs = (\n",
    "        open('/data/scanorama/conf/panorama.txt')\n",
    "        .read().rstrip().split()\n",
    ")"
   ]
  },
  {
   "cell_type": "code",
   "execution_count": 3,
   "metadata": {},
   "outputs": [
    {
     "name": "stdout",
     "output_type": "stream",
     "text": [
      "Preprocessing dataset: /data/scanorama/data/293t_jurkat/293t\n",
      "Preprocessing dataset: /data/scanorama/data/293t_jurkat/jurkat\n",
      "Preprocessing dataset: /data/scanorama/data/293t_jurkat/jurkat_293t_50_50\n",
      "Preprocessing dataset: /data/scanorama/data/293t_jurkat/jurkat_293t_99_1\n",
      "Preprocessing dataset: /data/scanorama/data/brain/neuron_9k\n",
      "Preprocessing dataset: /data/scanorama/data/macrophage/infected\n",
      "Preprocessing dataset: /data/scanorama/data/macrophage/mixed_infected\n",
      "Preprocessing dataset: /data/scanorama/data/macrophage/uninfected\n",
      "Preprocessing dataset: /data/scanorama/data/macrophage/uninfected_donor2\n",
      "Preprocessing dataset: /data/scanorama/data/hsc/hsc_mars\n",
      "Preprocessing dataset: /data/scanorama/data/hsc/hsc_ss2\n",
      "Preprocessing dataset: /data/scanorama/data/pancreas/pancreas_inDrop\n",
      "Preprocessing dataset: /data/scanorama/data/pancreas/pancreas_multi_celseq2_expression_matrix\n",
      "Preprocessing dataset: /data/scanorama/data/pancreas/pancreas_multi_celseq_expression_matrix\n",
      "Preprocessing dataset: /data/scanorama/data/pancreas/pancreas_multi_fluidigmc1_expression_matrix\n",
      "Preprocessing dataset: /data/scanorama/data/pancreas/pancreas_multi_smartseq2_expression_matrix\n",
      "Preprocessing dataset: /data/scanorama/data/pbmc/10x/68k_pbmc\n",
      "Preprocessing dataset: /data/scanorama/data/pbmc/10x/b_cells\n",
      "Preprocessing dataset: /data/scanorama/data/pbmc/10x/cd14_monocytes\n",
      "Preprocessing dataset: /data/scanorama/data/pbmc/10x/cd4_t_helper\n",
      "Preprocessing dataset: /data/scanorama/data/pbmc/10x/cd56_nk\n",
      "Preprocessing dataset: /data/scanorama/data/pbmc/10x/cytotoxic_t\n",
      "Preprocessing dataset: /data/scanorama/data/pbmc/10x/memory_t\n",
      "Preprocessing dataset: /data/scanorama/data/pbmc/10x/regulatory_t\n",
      "Preprocessing dataset: /data/scanorama/data/pbmc/pbmc_kang\n",
      "Preprocessing dataset: /data/scanorama/data/pbmc/pbmc_10X\n",
      "Keeping 5216 genes\n"
     ]
    }
   ],
   "source": [
    "datasets = [DatasetSCANORAMA(d) for d in dirs]\n",
    "\n",
    "all_dataset = GeneExpressionDataset.concat_datasets(*datasets)\n",
    "# Keeping 5216 genes\n",
    "\n",
    "labels = (open('/data/scanorama/data/cell_labels/all.txt').read().rstrip().split())\n",
    "all_dataset.cell_types,all_dataset.labels = np.unique(labels,return_inverse=True)\n",
    "all_dataset.labels = all_dataset.labels.reshape(len(all_dataset.labels),1)\n",
    "all_dataset.batch_indices = all_dataset.batch_indices.astype('int')\n",
    "\n",
    "from scvi.harmonization.utils_chenling import trainVAE,VAEstats\n",
    "# full = trainVAE(all_dataset, 'scanorama', 1, nlayers=3,n_hidden=256)\n",
    "full = trainVAE(all_dataset, 'scanorama', 0) #  nlayers=2,n_hidden=128\n",
    "# full = trainVAE(all_dataset, 'scanorama', 2, nlayers=3,n_hidden=128)\n"
   ]
  },
  {
   "cell_type": "code",
   "execution_count": 5,
   "metadata": {},
   "outputs": [
    {
     "name": "stdout",
     "output_type": "stream",
     "text": [
      "LL : 661761409032014844247796613120.0000\n"
     ]
    }
   ],
   "source": [
    "# for 250 iterations, takes 45:14 to train VAE\n",
    "latent, batch_indices, labels, stats = VAEstats(full)\n"
   ]
  },
  {
   "cell_type": "code",
   "execution_count": 6,
   "metadata": {},
   "outputs": [],
   "source": [
    "celltype_names = ['293t', 'CD19+ B cells', 'Hsc CMP', 'Hsc GMP', 'PBMC CD14+ monocyte', 'Hsc MEP', 'PBMC CD56+ NK', 'PBMC T cells', 'PBMC CD4 T cells', 'PBMC CD8 T cells','Hsc Unknown', 'Pancreas Acinar', 'Pancreas Alpha', 'Pancreas Beta', 'Pancreas Beta(ER stress)', 'Pancreas Delta', 'Pancreas Ductal','Pancreas Endothelial', 'Pancreas Gamma', 'Jurkat', 'Macrophage', 'Neuron', 'Pancreas Unknown','Pancreas  Stellate']\n"
   ]
  },
  {
   "cell_type": "code",
   "execution_count": 8,
   "metadata": {},
   "outputs": [
    {
     "data": {
      "text/plain": [
       "{'293t': '293t',\n",
       " 'B': 'CD19+ B cells',\n",
       " 'CMP': 'Hsc CMP',\n",
       " 'GMP': 'Hsc GMP',\n",
       " 'M': 'PBMC CD14+ monocyte',\n",
       " 'MEP': 'Hsc MEP',\n",
       " 'NK': 'PBMC CD56+ NK',\n",
       " 'T': 'PBMC T cells',\n",
       " 'TCD4': 'PBMC CD4 T cells',\n",
       " 'TCD8': 'PBMC CD8 T cells',\n",
       " 'U': 'Hsc Unknown',\n",
       " 'acinar': 'Pancreas Acinar',\n",
       " 'alpha': 'Pancreas Alpha',\n",
       " 'beta': 'Pancreas Beta',\n",
       " 'beta_er': 'Pancreas Beta(ER stress)',\n",
       " 'delta': 'Pancreas Delta',\n",
       " 'ductal': 'Pancreas Ductal',\n",
       " 'endo': 'Pancreas Endothelial',\n",
       " 'gamma': 'Pancreas Gamma',\n",
       " 'jurkat': 'Jurkat',\n",
       " 'macrophage': 'Macrophage',\n",
       " 'neuron': 'Neuron',\n",
       " 'other': 'Pancreas Unknown',\n",
       " 'stellate': 'Pancreas  Stellate'}"
      ]
     },
     "execution_count": 8,
     "metadata": {},
     "output_type": "execute_result"
    }
   ],
   "source": [
    "dict(zip(all_dataset.cell_types, celltype_names))"
   ]
  },
  {
   "cell_type": "code",
   "execution_count": 9,
   "metadata": {},
   "outputs": [],
   "source": [
    "# 1:05:58 for the more complex model\n",
    "    # , clustering_scores,clustering_accuracy\n",
    "plotname='scanorama'\n",
    "sample = select_indices_evenly(2000, batch_indices)\n",
    "colors = sns.color_palette('bright') + \\\n",
    "         sns.color_palette('muted') + \\\n",
    "         sns.color_palette('pastel') + \\\n",
    "         sns.color_palette('dark') + \\\n",
    "         sns.color_palette('colorblind')\n",
    "\n",
    "from umap import UMAP\n",
    "\n",
    "latent_s = latent[sample, :]\n",
    "label_s = labels[sample]\n",
    "batch_s = batch_indices[sample]\n",
    "if latent_s.shape[1] != 2:\n",
    "    latent_s = UMAP().fit_transform(latent_s)\n",
    "\n",
    "keys = all_dataset.cell_types\n",
    "fig, ax = plt.subplots(figsize=(20, 18))\n",
    "key_order = np.argsort(keys)\n",
    "for i, k in enumerate(key_order):\n",
    "    ax.scatter(latent_s[label_s == k, 0], latent_s[label_s == k, 1], c=colors[i % 30], label=celltype_names[k],\n",
    "               edgecolors='none')\n",
    "    ax.legend(bbox_to_anchor=(1.1, 0.5), borderaxespad=0, fontsize='x-large')\n",
    "fig.patch.set_visible(False)\n",
    "ax.axis('off')\n",
    "fig.tight_layout()\n",
    "plt.savefig('../' + plotname + '.labelText.pdf')\n",
    "\n"
   ]
  },
  {
   "cell_type": "code",
   "execution_count": 10,
   "metadata": {},
   "outputs": [],
   "source": [
    "dataset_names = ['293t', 'Jurkat', 'Jurkat 293t 50:50', 'Jurkat 293t 99:1',\n",
    " 'Neuron9k',\n",
    " 'Macrophage Infected', 'Macrophage Mixed', 'Macrophage Uninfected', 'Macrophage Uninfected2',\n",
    " 'HSC Mars', 'HSC SS2',\n",
    " 'Pancreas inDrop', 'Pancreas Celseq2', 'Pancreas Celseq', 'Pancreas Fluidigm C1', 'Pancreas SS2',\n",
    " 'PBMC 68K', 'B cells', 'CD14 Monocytes', 'CD4 T helper', 'CD56 NK', 'Cytotoxic T cells', 'Memory T cells', \n",
    " 'Regulatory T cells', 'PBMC Kang', 'PBMC 10X']\n"
   ]
  },
  {
   "cell_type": "code",
   "execution_count": 11,
   "metadata": {},
   "outputs": [],
   "source": [
    "\n",
    "\n",
    "keys = dirs\n",
    "fig, ax = plt.subplots(figsize=(20, 14))\n",
    "key_order = np.argsort(keys)\n",
    "\n",
    "colors = sns.light_palette(\"navy\",4, reverse=True) + \\\n",
    "sns.light_palette(\"gray\",1, reverse=True) + \\\n",
    "sns.light_palette(\"orange\",4, reverse=True) + \\\n",
    "sns.light_palette(\"purple\",2,reverse=True) + \\\n",
    "sns.light_palette(\"green\",5,reverse=True) + \\\n",
    "sns.light_palette(\"red\",10,reverse=True)\n",
    "\n",
    "for k in key_order:\n",
    "    ax.scatter(latent_s[batch_s == k, 0], latent_s[batch_s == k, 1], c=colors[k], label=dataset_names[k],\n",
    "               edgecolors='none')\n",
    "    ax.legend(bbox_to_anchor=(1.1, 0.5), borderaxespad=0, fontsize='x-large')\n",
    "fig.patch.set_visible(False)\n",
    "ax.axis('off')\n",
    "fig.tight_layout()\n",
    "plt.savefig('../' + plotname + '.batchesText.pdf')\n"
   ]
  },
  {
   "cell_type": "code",
   "execution_count": null,
   "metadata": {},
   "outputs": [],
   "source": [
    "from scvi.metrics.clustering import clustering_scores\n",
    "res_knn = clustering_scores(np.asarray(latent), labels, 'knn')\n",
    "res_kmeans = clustering_scores(np.asarray(latent), labels, 'KMeans')\n",
    "\n",
    "plt.figure(figsize=(5, 4))\n",
    "order = np.argsort(res_knn['clusteracc'])\n",
    "plt.bar(np.arange(len(all_dataset.cell_types)), np.asarray(res_knn['clusteracc'])[order])\n",
    "plt.xticks(np.arange(len(all_dataset.cell_types)), np.asarray(celltype_names)[order],rotation='vertical')\n",
    "plt.tight_layout()\n",
    "plt.savefig(\"/data/scanorama/acc_barplot.pdf\")\n"
   ]
  }
 ],
 "metadata": {
  "kernelspec": {
   "display_name": "Python [conda env:pytorch_p36]",
   "language": "python",
   "name": "conda-env-pytorch_p36-py"
  },
  "language_info": {
   "codemirror_mode": {
    "name": "ipython",
    "version": 3
   },
   "file_extension": ".py",
   "mimetype": "text/x-python",
   "name": "python",
   "nbconvert_exporter": "python",
   "pygments_lexer": "ipython3",
   "version": "3.6.7"
  }
 },
 "nbformat": 4,
 "nbformat_minor": 2
}
