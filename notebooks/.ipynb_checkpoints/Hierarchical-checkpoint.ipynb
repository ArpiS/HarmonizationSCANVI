{
 "cells": [
  {
   "cell_type": "code",
   "execution_count": 1,
   "metadata": {},
   "outputs": [],
   "source": [
    "import os\n",
    "os.chdir(\"/home/ec2-user/scVI/\")\n",
    "os.getcwd()\n",
    "\n",
    "from scvi.dataset.MouseBrain import ZeiselMoleArchData\n"
   ]
  },
  {
   "cell_type": "code",
   "execution_count": 2,
   "metadata": {},
   "outputs": [],
   "source": [
    "\n",
    "import matplotlib\n",
    "matplotlib.rcParams['pdf.fonttype'] = 42\n",
    "matplotlib.rcParams['ps.fonttype'] = 42\n",
    "import matplotlib.pyplot as plt\n",
    "import seaborn as sns\n",
    "%matplotlib inline\n",
    "\n",
    "from umap import UMAP\n",
    "\n",
    "use_cuda = True\n",
    "import torch"
   ]
  },
  {
   "cell_type": "markdown",
   "metadata": {},
   "source": [
    "# import scVI models\n"
   ]
  },
  {
   "cell_type": "code",
   "execution_count": 3,
   "metadata": {},
   "outputs": [],
   "source": [
    "\n",
    "from scvi.inference import UnsupervisedTrainer, SemiSupervisedTrainer\n",
    "from scvi.models.scanvi import SCANVI\n",
    "from scvi.models.vae import VAE"
   ]
  },
  {
   "cell_type": "code",
   "execution_count": 4,
   "metadata": {},
   "outputs": [],
   "source": [
    "import numpy as np"
   ]
  },
  {
   "cell_type": "code",
   "execution_count": 5,
   "metadata": {},
   "outputs": [],
   "source": [
    "gene_dataset = ZeiselMoleArchData()"
   ]
  },
  {
   "cell_type": "code",
   "execution_count": 6,
   "metadata": {},
   "outputs": [],
   "source": [
    "gene_dataset_fine = ZeiselMoleArchData(coarse=False)"
   ]
  },
  {
   "cell_type": "code",
   "execution_count": 7,
   "metadata": {},
   "outputs": [
    {
     "name": "stdout",
     "output_type": "stream",
     "text": [
      "The number of classes in the coarse data is 39\n",
      "\n",
      "The number of classes in the fine data is 265\n",
      "\n",
      "the mapping of fine to coarse labels is Correct\n",
      "\n"
     ]
    }
   ],
   "source": [
    "print(\"The number of classes in the coarse data is %i\\n\" % len(np.unique(gene_dataset.labels)))\n",
    "print(\"The number of classes in the fine data is %i\\n\" % len(np.unique(gene_dataset_fine.labels)))\n",
    "if np.sum([gene_dataset_fine.labels_groups[x] for x in gene_dataset_fine.labels.ravel()] == gene_dataset.labels.ravel()) == len(gene_dataset_fine):\n",
    "    print(\"the mapping of fine to coarse labels is Correct\\n\") \n",
    "else: print(\"check that labels_groups is right\")\n",
    "     \n"
   ]
  },
  {
   "cell_type": "code",
   "execution_count": 8,
   "metadata": {},
   "outputs": [
    {
     "name": "stdout",
     "output_type": "stream",
     "text": [
      "Downsampling from 27998 to 1001 genes\n",
      "Downsampling from 160796 to 160796 cells\n",
      "Downsampling from 27998 to 1001 genes\n",
      "Downsampling from 160796 to 160796 cells\n"
     ]
    }
   ],
   "source": [
    "import pandas as pd\n",
    "genes1 = pd.read_table('../Zeisel/Zeisel.1.hvg_info.csv', delimiter=',')\n",
    "geneid1 = np.asarray([x.replace('gene_', '') for x in genes1[genes1.keys()[0]]]).astype('int')\n",
    "genenames1 = genes1['genename']\n",
    "assert np.sum(np.asarray(genenames1) == gene_dataset.gene_names) == len(gene_dataset.gene_names)\n",
    "genes = gene_dataset.gene_names[geneid1[:1000]]\n",
    "from scvi.harmonization.utils_chenling import subsetByGenenames\n",
    "gene_dataset = subsetByGenenames(gene_dataset,genes)\n",
    "gene_dataset_fine = subsetByGenenames(gene_dataset_fine,genes)"
   ]
  },
  {
   "cell_type": "code",
   "execution_count": 9,
   "metadata": {},
   "outputs": [
    {
     "data": {
      "text/plain": [
       "VAE(\n",
       "  (z_encoder): Encoder(\n",
       "    (encoder): FCLayers(\n",
       "      (fc_layers): Sequential(\n",
       "        (Layer 0): Sequential(\n",
       "          (linear_0): Linear(in_features=1001, out_features=128, bias=True)\n",
       "          (batch_norm_0): BatchNorm1d(128, eps=0.001, momentum=0.01, affine=True, track_running_stats=True)\n",
       "          (non_linearity_0): ReLU()\n",
       "        )\n",
       "        (Layer 1): Sequential(\n",
       "          (linear_1): Linear(in_features=128, out_features=128, bias=True)\n",
       "          (batch_norm_1): BatchNorm1d(128, eps=0.001, momentum=0.01, affine=True, track_running_stats=True)\n",
       "          (non_linearity_1): ReLU()\n",
       "          (dropout_1): Dropout(p=0.1)\n",
       "        )\n",
       "      )\n",
       "    )\n",
       "    (mean_encoder): Linear(in_features=128, out_features=10, bias=True)\n",
       "    (var_encoder): Linear(in_features=128, out_features=10, bias=True)\n",
       "  )\n",
       "  (l_encoder): Encoder(\n",
       "    (encoder): FCLayers(\n",
       "      (fc_layers): Sequential(\n",
       "        (Layer 0): Sequential(\n",
       "          (linear_0): Linear(in_features=1001, out_features=128, bias=True)\n",
       "          (batch_norm_0): BatchNorm1d(128, eps=0.001, momentum=0.01, affine=True, track_running_stats=True)\n",
       "          (non_linearity_0): ReLU()\n",
       "        )\n",
       "      )\n",
       "    )\n",
       "    (mean_encoder): Linear(in_features=128, out_features=1, bias=True)\n",
       "    (var_encoder): Linear(in_features=128, out_features=1, bias=True)\n",
       "  )\n",
       "  (decoder): DecoderSCVI(\n",
       "    (px_decoder): FCLayers(\n",
       "      (fc_layers): Sequential(\n",
       "        (Layer 0): Sequential(\n",
       "          (linear_0): Linear(in_features=10, out_features=128, bias=True)\n",
       "          (batch_norm_0): BatchNorm1d(128, eps=0.001, momentum=0.01, affine=True, track_running_stats=True)\n",
       "          (non_linearity_0): ReLU()\n",
       "        )\n",
       "        (Layer 1): Sequential(\n",
       "          (linear_1): Linear(in_features=128, out_features=128, bias=True)\n",
       "          (batch_norm_1): BatchNorm1d(128, eps=0.001, momentum=0.01, affine=True, track_running_stats=True)\n",
       "          (non_linearity_1): ReLU()\n",
       "          (dropout_1): Dropout(p=0.1)\n",
       "        )\n",
       "      )\n",
       "    )\n",
       "    (px_scale_decoder): Sequential(\n",
       "      (0): Linear(in_features=128, out_features=1001, bias=True)\n",
       "      (1): Softmax()\n",
       "    )\n",
       "    (px_r_decoder): Linear(in_features=128, out_features=1001, bias=True)\n",
       "    (px_dropout_decoder): Linear(in_features=128, out_features=1001, bias=True)\n",
       "  )\n",
       ")"
      ]
     },
     "execution_count": 9,
     "metadata": {},
     "output_type": "execute_result"
    }
   ],
   "source": [
    "vae = VAE(gene_dataset.nb_genes, n_batch=gene_dataset.n_batches, n_labels=gene_dataset.n_labels,\n",
    "          n_hidden=128, n_latent=10, n_layers=2, dispersion='gene')\n",
    "trainer = UnsupervisedTrainer(vae, gene_dataset, train_size=1.0)\n",
    "trainer.model.load_state_dict(torch.load('../Zeisel/vae.pkl'))\n",
    "trainer.model.eval()\n",
    "# trainer.train(n_epochs=250)\n",
    "# torch.save(trainer.model.state_dict(),'../Zeisel/vae.pkl')"
   ]
  },
  {
   "cell_type": "code",
   "execution_count": 11,
   "metadata": {},
   "outputs": [],
   "source": [
    "full = trainer.create_posterior(trainer.model, gene_dataset, indices=np.arange(len(gene_dataset)))"
   ]
  },
  {
   "cell_type": "markdown",
   "metadata": {},
   "source": [
    "# SCANVI Fine"
   ]
  },
  {
   "cell_type": "code",
   "execution_count": 10,
   "metadata": {},
   "outputs": [],
   "source": [
    "scanvi = SCANVI(gene_dataset_fine.nb_genes, gene_dataset_fine.n_batches, gene_dataset_fine.n_labels, n_layers=2)\n",
    "scanvi.load_state_dict(full.model.state_dict(), strict=False)\n",
    "trainer_scanvi = SemiSupervisedTrainer(scanvi, gene_dataset_fine, classification_ratio=50,\n",
    "                                       n_epochs_classifier=1, lr_classification=5 * 1e-3)\n",
    "trainer_scanvi.train(n_epochs=5)\n",
    "torch.save(trainer_scanvi.model.state_dict(),'../Zeisel/scanvi.pkl')\n",
    "full = trainer_scanvi.create_posterior(trainer_scanvi.model, gene_dataset_fine, indices=np.arange(len(gene_dataset_fine)))\n",
    "y,pred = full.sequential().compute_predictions()"
   ]
  },
  {
   "cell_type": "code",
   "execution_count": 15,
   "metadata": {},
   "outputs": [
    {
     "data": {
      "text/plain": [
       "0.3607428045473768"
      ]
     },
     "execution_count": 15,
     "metadata": {},
     "output_type": "execute_result"
    }
   ],
   "source": [
    "np.mean(y==pred)"
   ]
  },
  {
   "cell_type": "markdown",
   "metadata": {},
   "source": [
    "# SCANVI Hierarchical"
   ]
  },
  {
   "cell_type": "code",
   "execution_count": 12,
   "metadata": {},
   "outputs": [
    {
     "name": "stdout",
     "output_type": "stream",
     "text": [
      "training: 100%|██████████| 5/5 [31:29<00:00, 377.82s/it]\n"
     ]
    }
   ],
   "source": [
    "scanvi = SCANVI(gene_dataset_fine.nb_genes, gene_dataset_fine.n_batches, gene_dataset_fine.n_labels, n_layers=2,\n",
    "               labels_groups=gene_dataset_fine.labels_groups, use_labels_groups=True)\n",
    "\n",
    "scanvi.load_state_dict(full.model.state_dict(), strict=False)\n",
    "\n",
    "\n",
    "trainer_scanvi = SemiSupervisedTrainer(scanvi, gene_dataset_fine, classification_ratio=50,\n",
    "                                       n_epochs_classifier=1, lr_classification=5 * 1e-3)\n",
    "\n",
    "trainer_scanvi.train(n_epochs=5)\n",
    "\n",
    "full = trainer_scanvi.create_posterior(trainer_scanvi.model, gene_dataset_fine, indices=np.arange(len(gene_dataset_fine)))\n",
    "y,pred = full.sequential().compute_predictions()"
   ]
  },
  {
   "cell_type": "code",
   "execution_count": 13,
   "metadata": {},
   "outputs": [
    {
     "data": {
      "text/plain": [
       "0.6237530784347869"
      ]
     },
     "execution_count": 13,
     "metadata": {},
     "output_type": "execute_result"
    }
   ],
   "source": [
    "np.mean(y==pred)"
   ]
  },
  {
   "cell_type": "code",
   "execution_count": null,
   "metadata": {},
   "outputs": [],
   "source": []
  }
 ],
 "metadata": {
  "kernelspec": {
   "display_name": "Python [conda env:pytorch_p36]",
   "language": "python",
   "name": "conda-env-pytorch_p36-py"
  },
  "language_info": {
   "codemirror_mode": {
    "name": "ipython",
    "version": 3
   },
   "file_extension": ".py",
   "mimetype": "text/x-python",
   "name": "python",
   "nbconvert_exporter": "python",
   "pygments_lexer": "ipython3",
   "version": "3.6.7"
  }
 },
 "nbformat": 4,
 "nbformat_minor": 2
}
