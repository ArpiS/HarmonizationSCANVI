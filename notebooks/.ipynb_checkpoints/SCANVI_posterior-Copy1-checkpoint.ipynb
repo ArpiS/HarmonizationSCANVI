{
 "cells": [
  {
   "cell_type": "code",
   "execution_count": 26,
   "metadata": {},
   "outputs": [],
   "source": [
    "import matplotlib\n",
    "%matplotlib inline"
   ]
  },
  {
   "cell_type": "code",
   "execution_count": 1,
   "metadata": {},
   "outputs": [],
   "source": [
    "import matplotlib\n",
    "%matplotlib inline\n",
    "matplotlib.rcParams['pdf.fonttype'] = 42\n",
    "matplotlib.rcParams['ps.fonttype'] = 42\n",
    "import matplotlib.pyplot as plt\n",
    "\n",
    "import seaborn as sns\n",
    "\n",
    "import os\n",
    "os.chdir(\"/home/ec2-user/scVI/\")\n",
    "os.getcwd()\n",
    "\n",
    "from umap import UMAP\n",
    "\n",
    "use_cuda = True\n",
    "import torch"
   ]
  },
  {
   "cell_type": "markdown",
   "metadata": {},
   "source": [
    "# import data loading functions"
   ]
  },
  {
   "cell_type": "code",
   "execution_count": 2,
   "metadata": {},
   "outputs": [],
   "source": [
    "from scvi.harmonization.utils_chenling import get_matrix_from_dir\n",
    "from scvi.dataset.pbmc import PbmcDataset\n",
    "from scvi.harmonization.utils_chenling import assign_label\n",
    "import numpy as np\n",
    "from scvi.dataset.dataset import GeneExpressionDataset\n",
    "from copy import deepcopy\n"
   ]
  },
  {
   "cell_type": "markdown",
   "metadata": {},
   "source": [
    "# import scVI models"
   ]
  },
  {
   "cell_type": "code",
   "execution_count": 3,
   "metadata": {},
   "outputs": [],
   "source": [
    "from scvi.inference import UnsupervisedTrainer, SemiSupervisedTrainer\n",
    "from scvi.models.scanvi import SCANVI\n",
    "from scvi.models.vae import VAE"
   ]
  },
  {
   "cell_type": "code",
   "execution_count": 4,
   "metadata": {},
   "outputs": [
    {
     "name": "stdout",
     "output_type": "stream",
     "text": [
      "File data/gene_info_pbmc.csv already downloaded\n",
      "File data/pbmc_metadata.pickle already downloaded\n",
      "File data/10X/pbmc8k/filtered_gene_bc_matrices.tar.gz already downloaded\n",
      "Preprocessing dataset\n",
      "Finished preprocessing dataset\n",
      "Downsampling from 33694 to 21425 genes\n",
      "Downsampling from 8381 to 8381 cells\n",
      "File data/10X/pbmc4k/filtered_gene_bc_matrices.tar.gz already downloaded\n",
      "Preprocessing dataset\n",
      "Finished preprocessing dataset\n",
      "Downsampling from 33694 to 19773 genes\n",
      "Downsampling from 4340 to 4340 cells\n",
      "Keeping 19039 genes\n",
      "Downsampling from 12721 to 11990 cells\n",
      "Downsampling from 19039 to 19036 genes\n",
      "Downsampling from 11990 to 11990 cells\n",
      "Downsampling from 11990 to 7982 cells\n"
     ]
    },
    {
     "name": "stderr",
     "output_type": "stream",
     "text": [
      "/home/ec2-user/anaconda3/envs/pytorch_p36/lib/python3.6/site-packages/numpy/matrixlib/defmatrix.py:536: RuntimeWarning: Mean of empty slice.\n",
      "  return N.ndarray.mean(self, axis, dtype, out, keepdims=True)._collapse(axis)\n",
      "/home/ec2-user/anaconda3/envs/pytorch_p36/lib/python3.6/site-packages/numpy/core/_methods.py:73: RuntimeWarning: invalid value encountered in true_divide\n",
      "  ret, rcount, out=ret, casting='unsafe', subok=False)\n",
      "/home/ec2-user/anaconda3/envs/pytorch_p36/lib/python3.6/site-packages/numpy/matrixlib/defmatrix.py:604: RuntimeWarning: Degrees of freedom <= 0 for slice\n",
      "  return N.ndarray.var(self, axis, dtype, out, ddof, keepdims=True)._collapse(axis)\n",
      "/home/ec2-user/anaconda3/envs/pytorch_p36/lib/python3.6/site-packages/numpy/core/_methods.py:105: RuntimeWarning: invalid value encountered in true_divide\n",
      "  arrmean, rcount, out=arrmean, casting='unsafe', subok=False)\n",
      "/home/ec2-user/anaconda3/envs/pytorch_p36/lib/python3.6/site-packages/numpy/core/_methods.py:125: RuntimeWarning: invalid value encountered in true_divide\n",
      "  ret, rcount, out=ret, casting='unsafe', subok=False)\n"
     ]
    },
    {
     "name": "stdout",
     "output_type": "stream",
     "text": [
      "Downsampling from 19036 to 19011 genes\n",
      "Downsampling from 7982 to 7982 cells\n"
     ]
    },
    {
     "data": {
      "text/plain": [
       "{'B cells',\n",
       " 'CD14+ Monocytes',\n",
       " 'CD4 T cells',\n",
       " 'CD8 T cells',\n",
       " 'FCGR3A+ Monocytes',\n",
       " 'NK cells',\n",
       " 'Other'}"
      ]
     },
     "execution_count": 4,
     "metadata": {},
     "output_type": "execute_result"
    }
   ],
   "source": [
    "dataset1 = PbmcDataset(filter_out_de_genes=False)\n",
    "dataset1.update_cells(dataset1.batch_indices.ravel()==0)\n",
    "dataset1.subsample_genes(dataset1.nb_genes)\n",
    "\n",
    "count, geneid, cellid = get_matrix_from_dir('cite')\n",
    "count = count.T.tocsr()\n",
    "seurat = np.genfromtxt('../cite/cite.seurat.labels', dtype='str', delimiter=',')\n",
    "cellid = np.asarray([x.split('-')[0] for x in cellid])\n",
    "labels_map = [0, 0, 1, 2, 3, 4, 5, 6]\n",
    "labels = seurat[1:, 4]\n",
    "cell_type = ['CD4 T cells', 'NK cells', 'CD14+ Monocytes', 'B cells','CD8 T cells', 'FCGR3A+ Monocytes', 'Other']\n",
    "dataset2 = assign_label(cellid, geneid, labels_map, count, cell_type, seurat)\n",
    "set(dataset2.cell_types).intersection(set(dataset2.cell_types))\n"
   ]
  },
  {
   "cell_type": "code",
   "execution_count": 5,
   "metadata": {},
   "outputs": [],
   "source": [
    "rmCellTypes = 'B cells'"
   ]
  },
  {
   "cell_type": "code",
   "execution_count": 6,
   "metadata": {},
   "outputs": [
    {
     "name": "stdout",
     "output_type": "stream",
     "text": [
      "Downsampling from 7982 to 6922 cells\n",
      "Downsampling from 6616 to 685 cells\n",
      "Keeping 14968 genes\n"
     ]
    }
   ],
   "source": [
    "pbmc = deepcopy(dataset1)\n",
    "newCellType = [k for i, k in enumerate(dataset1.cell_types) if k not in [rmCellTypes]]\n",
    "pbmc.filter_cell_types(newCellType)\n",
    "pbmc2 = deepcopy(dataset2)\n",
    "pbmc2.filter_cell_types([rmCellTypes])\n",
    "gene_dataset = GeneExpressionDataset.concat_datasets(pbmc, pbmc2)"
   ]
  },
  {
   "cell_type": "code",
   "execution_count": 7,
   "metadata": {},
   "outputs": [],
   "source": [
    "rm_idx = np.arange(len(gene_dataset.cell_types))[gene_dataset.cell_types == rmCellTypes][0]"
   ]
  },
  {
   "cell_type": "code",
   "execution_count": 8,
   "metadata": {},
   "outputs": [
    {
     "data": {
      "text/plain": [
       "True"
      ]
     },
     "execution_count": 8,
     "metadata": {},
     "output_type": "execute_result"
    }
   ],
   "source": [
    "gene_dataset.cell_types[rm_idx] == rmCellTypes"
   ]
  },
  {
   "cell_type": "code",
   "execution_count": 9,
   "metadata": {},
   "outputs": [
    {
     "name": "stdout",
     "output_type": "stream",
     "text": [
      "Keeping 14968 genes\n"
     ]
    }
   ],
   "source": [
    "pbmc3 = deepcopy(pbmc2)\n",
    "pbmc3.cell_types = ['CD4 T cells']\n",
    "false_gene_dataset = GeneExpressionDataset.concat_datasets(pbmc, pbmc3)"
   ]
  },
  {
   "cell_type": "code",
   "execution_count": 10,
   "metadata": {},
   "outputs": [
    {
     "data": {
      "text/plain": [
       "array(['CD14+ Monocytes', 'CD4 T cells', 'CD8 T cells', 'Dendritic Cells',\n",
       "       'FCGR3A+ Monocytes', 'Megakaryocytes', 'NK cells', 'Other'],\n",
       "      dtype=object)"
      ]
     },
     "execution_count": 10,
     "metadata": {},
     "output_type": "execute_result"
    }
   ],
   "source": [
    "pbmc.cell_types"
   ]
  },
  {
   "cell_type": "code",
   "execution_count": 11,
   "metadata": {},
   "outputs": [
    {
     "data": {
      "text/plain": [
       "['CD4 T cells']"
      ]
     },
     "execution_count": 11,
     "metadata": {},
     "output_type": "execute_result"
    }
   ],
   "source": [
    "pbmc3.cell_types"
   ]
  },
  {
   "cell_type": "code",
   "execution_count": 12,
   "metadata": {},
   "outputs": [
    {
     "data": {
      "text/plain": [
       "array(['B cells'], dtype='<U17')"
      ]
     },
     "execution_count": 12,
     "metadata": {},
     "output_type": "execute_result"
    }
   ],
   "source": [
    "pbmc2.cell_types"
   ]
  },
  {
   "cell_type": "code",
   "execution_count": 13,
   "metadata": {},
   "outputs": [
    {
     "name": "stdout",
     "output_type": "stream",
     "text": [
      "Downsampling from 14968 to 14962 genes\n",
      "Downsampling from 7607 to 7607 cells\n"
     ]
    },
    {
     "name": "stderr",
     "output_type": "stream",
     "text": [
      "/home/ec2-user/scVI/scvi/dataset/dataset.py:178: RuntimeWarning: divide by zero encountered in true_divide\n",
      "  subset_genes = np.argsort(std_scaler.var_ / std_scaler.mean_)[::-1][:new_n_genes]\n",
      "/home/ec2-user/scVI/scvi/dataset/dataset.py:178: RuntimeWarning: invalid value encountered in true_divide\n",
      "  subset_genes = np.argsort(std_scaler.var_ / std_scaler.mean_)[::-1][:new_n_genes]\n"
     ]
    },
    {
     "name": "stdout",
     "output_type": "stream",
     "text": [
      "Downsampling from 14962 to 1938 genes\n",
      "Downsampling from 14962 to 1938 genes\n",
      "Downsampling from 7607 to 7607 cells\n",
      "Downsampling from 14968 to 14962 genes\n",
      "Downsampling from 7607 to 7607 cells\n",
      "Downsampling from 14962 to 1938 genes\n",
      "Downsampling from 14962 to 1938 genes\n",
      "Downsampling from 7607 to 7607 cells\n"
     ]
    }
   ],
   "source": [
    "gene_dataset.subsample_genes(1000)\n",
    "false_gene_dataset.subsample_genes(1000)"
   ]
  },
  {
   "cell_type": "code",
   "execution_count": 14,
   "metadata": {},
   "outputs": [
    {
     "name": "stdout",
     "output_type": "stream",
     "text": [
      "training: 100%|██████████| 250/250 [02:57<00:00,  1.41it/s]\n"
     ]
    }
   ],
   "source": [
    "vae = VAE(gene_dataset.nb_genes, n_batch=gene_dataset.n_batches,\n",
    "      n_hidden=128, n_latent=10, n_layers=2, dispersion='gene')\n",
    "trainer = UnsupervisedTrainer(vae, gene_dataset, train_size=1.0)\n",
    "trainer.train(n_epochs=250)\n",
    "full = trainer.create_posterior(trainer.model, gene_dataset, indices=np.arange(len(gene_dataset)))\n"
   ]
  },
  {
   "cell_type": "code",
   "execution_count": 15,
   "metadata": {},
   "outputs": [
    {
     "name": "stdout",
     "output_type": "stream",
     "text": [
      "training: 100%|██████████| 5/5 [00:08<00:00,  1.70s/it]\n"
     ]
    }
   ],
   "source": [
    "scanvi = SCANVI(gene_dataset.nb_genes, gene_dataset.n_batches, gene_dataset.n_labels,\n",
    "                  n_hidden=128, n_latent=10, n_layers=2, dispersion='gene')\n",
    "scanvi.load_state_dict(trainer.model.state_dict(), strict=False)\n",
    "trainer_scanvi = SemiSupervisedTrainer(scanvi, gene_dataset, classification_ratio=50,\n",
    "                                       n_epochs_classifier=1, lr_classification=5 * 1e-3)\n",
    "\n",
    "trainer_scanvi.labelled_set = trainer_scanvi.create_posterior(indices=(gene_dataset.batch_indices == 0))\n",
    "trainer_scanvi.unlabelled_set = trainer_scanvi.create_posterior(indices=(gene_dataset.batch_indices == 1))\n",
    "trainer_scanvi.train(n_epochs=5)\n"
   ]
  },
  {
   "cell_type": "code",
   "execution_count": 16,
   "metadata": {},
   "outputs": [],
   "source": [
    "unlabelled_idx = trainer_scanvi.unlabelled_set.indices"
   ]
  },
  {
   "cell_type": "code",
   "execution_count": 17,
   "metadata": {},
   "outputs": [],
   "source": [
    "full_scanvi = trainer_scanvi.create_posterior(trainer_scanvi.model, gene_dataset, indices=np.arange(len(gene_dataset)))\n",
    "all_y_pred = []\n",
    "for i_batch, tensors in enumerate(full_scanvi.sequential()):\n",
    "    sample_batch, _, _, _, _ = tensors\n",
    "    all_y_pred += [scanvi.classify(sample_batch)]\n",
    "\n",
    "all_y_pred = np.array(torch.cat(all_y_pred))    \n",
    "max_prob=(np.max(all_y_pred,axis=1))"
   ]
  },
  {
   "cell_type": "code",
   "execution_count": 21,
   "metadata": {},
   "outputs": [
    {
     "name": "stdout",
     "output_type": "stream",
     "text": [
      "training: 100%|██████████| 10/10 [00:16<00:00,  1.64s/it]\n"
     ]
    }
   ],
   "source": [
    "scanvi_false = SCANVI(false_gene_dataset.nb_genes, false_gene_dataset.n_batches, false_gene_dataset.n_labels,\n",
    "                  n_hidden=128, n_latent=10, n_layers=2, dispersion='gene')\n",
    "scanvi_false.load_state_dict(trainer.model.state_dict(), strict=False)\n",
    "trainer_scanvi_false = SemiSupervisedTrainer(scanvi_false, false_gene_dataset, classification_ratio=50,\n",
    "                                       n_epochs_classifier=1, lr_classification=5 * 1e-3)\n",
    "\n",
    "trainer_scanvi_false.labelled_set = trainer_scanvi_false.create_posterior(indices=(false_gene_dataset.batch_indices == 0))\n",
    "trainer_scanvi_false.unlabelled_set = trainer_scanvi_false.create_posterior(indices=(false_gene_dataset.batch_indices == 1))\n",
    "trainer_scanvi_false.train(n_epochs=10)\n"
   ]
  },
  {
   "cell_type": "code",
   "execution_count": 22,
   "metadata": {},
   "outputs": [],
   "source": [
    "full_scanvi_false = trainer_scanvi_false.create_posterior(trainer_scanvi_false.model, false_gene_dataset, indices=np.arange(len(false_gene_dataset)))\n",
    "all_y_pred_false = []\n",
    "for i_batch, tensors in enumerate(full_scanvi_false.sequential()):\n",
    "    sample_batch, _, _, _, _ = tensors\n",
    "    all_y_pred_false += [scanvi_false.classify(sample_batch)]\n",
    "\n",
    "all_y_pred_false = np.array(torch.cat(all_y_pred_false))\n",
    "max_prob_false=(np.max(all_y_pred_false,axis=1))\n",
    "pred_prob_false = (np.argmax(all_y_pred_false,axis=1))"
   ]
  },
  {
   "cell_type": "code",
   "execution_count": 27,
   "metadata": {},
   "outputs": [
    {
     "data": {
      "image/png": "[encoded data removed]",
      "text/plain": [
       "<Figure size 576x576 with 1 Axes>"
      ]
     },
     "metadata": {},
     "output_type": "display_data"
    }
   ],
   "source": [
    "fig, ax = plt.subplots(figsize=(8, 8))\n",
    "plt.hist(max_prob[gene_dataset.batch_indices.ravel() ==1], 30, alpha=0.5, label='maximum prob')\n",
    "plt.hist(max_prob_false[false_gene_dataset.batch_indices.ravel() ==1], 30, alpha=0.5, label='maximum prob (mis-specified model)')\n",
    "plt.legend(loc='upper left')\n",
    "fig.savefig(\"figures/SCANVI_stress_probfalse_Bcells.pdf\", transparency=True)\n"
   ]
  },
  {
   "cell_type": "code",
   "execution_count": 31,
   "metadata": {},
   "outputs": [],
   "source": [
    "from scipy.special import logit"
   ]
  },
  {
   "cell_type": "code",
   "execution_count": 32,
   "metadata": {},
   "outputs": [
    {
     "data": {
      "image/png": "[encoded data removed]",
      "text/plain": [
       "<Figure size 576x576 with 1 Axes>"
      ]
     },
     "metadata": {},
     "output_type": "display_data"
    }
   ],
   "source": [
    "fig, ax = plt.subplots(figsize=(8, 8))\n",
    "plt.hist(logit(max_prob[gene_dataset.batch_indices.ravel() !=1][:np.sum(gene_dataset.batch_indices.ravel() ==1)]), 30, alpha=0.5, label='Not B cells')\n",
    "plt.hist(logit(max_prob[false_gene_dataset.batch_indices.ravel() ==1]), 30, alpha=0.5, label='B cells')\n",
    "plt.legend(loc='upper left')\n",
    "plt.show()\n",
    "# fig.savefig(\"figures/SCANVI_stress_probfalse_Bcells.pdf\", transparency=True)\n"
   ]
  },
  {
   "cell_type": "code",
   "execution_count": 33,
   "metadata": {},
   "outputs": [
    {
     "data": {
      "image/png": "[encoded data removed]",
      "text/plain": [
       "<Figure size 576x576 with 1 Axes>"
      ]
     },
     "metadata": {},
     "output_type": "display_data"
    }
   ],
   "source": [
    "fig, ax = plt.subplots(figsize=(8, 8))\n",
    "plt.hist(logit(max_prob_false[gene_dataset.batch_indices.ravel() !=1][:np.sum(gene_dataset.batch_indices.ravel() ==1)]), 30, alpha=0.5, label='Not B cells')\n",
    "plt.hist(logit(max_prob_false[false_gene_dataset.batch_indices.ravel() ==1]), 30, alpha=0.5, label='B cells')\n",
    "plt.legend(loc='upper left')\n",
    "plt.show()\n",
    "# fig.savefig(\"figures/SCANVI_stress_probfalse_Bcells.pdf\", transparency=True)\n"
   ]
  },
  {
   "cell_type": "code",
   "execution_count": 24,
   "metadata": {},
   "outputs": [],
   "source": [
    "fig, ax = plt.subplots(figsize=(8, 8))\n",
    "plt.hist(max_prob[gene_dataset.batch_indices.ravel() ==0], 30, alpha=0.5, label='maximum prob')\n",
    "plt.hist((max_prob_false[false_gene_dataset.batch_indices.ravel() ==0]), 30, alpha=0.5, label='maximum prob (mis-specified model)')\n",
    "plt.legend(loc='upper left')\n",
    "fig.savefig(\"figures/SCANVI_stress_probfalse_all.pdf\", transparency=True)\n"
   ]
  },
  {
   "cell_type": "code",
   "execution_count": null,
   "metadata": {},
   "outputs": [],
   "source": [
    "from scvi.metrics.clustering import select_indices_evenly"
   ]
  },
  {
   "cell_type": "code",
   "execution_count": null,
   "metadata": {},
   "outputs": [],
   "source": [
    "latent, batch_indices, _ = full.sequential().get_latent()"
   ]
  },
  {
   "cell_type": "code",
   "execution_count": null,
   "metadata": {},
   "outputs": [],
   "source": [
    "keys = gene_dataset.cell_types\n",
    "key_order = np.argsort(keys)\n",
    "labels = gene_dataset.labels.ravel()\n",
    "\n",
    "sample = select_indices_evenly(2000, labels)\n",
    "colors = sns.color_palette('tab20')\n",
    "latent_s = latent[sample, :]\n",
    "label_s = labels[sample]\n",
    "batch_s = batch_indices.ravel()[sample]\n",
    "\n",
    "from umap import UMAP\n",
    "latent_u = UMAP(spread=2).fit_transform(latent_s)\n",
    "\n",
    "fig, ax = plt.subplots(figsize=(8, 8))\n",
    "for i,k in enumerate(key_order):\n",
    "    idx = label_s==k\n",
    "    ax.scatter(latent_u[idx, 0], latent_u[idx, 1], c=colors[i%20], label=keys[k],\n",
    "                   edgecolors='none')\n",
    "plt.legend(bbox_to_anchor=(1.1, 0.5), borderaxespad=0, fontsize='x-large')\n",
    "plt.axis(\"off\")\n",
    "fig.tight_layout()\n",
    "plt.savefig(\"figures/SCANVI_stress_vaeUMAP_labels.pdf\", transparency=True)\n"
   ]
  },
  {
   "cell_type": "code",
   "execution_count": null,
   "metadata": {},
   "outputs": [],
   "source": [
    "fig, ax = plt.subplots(figsize=(8, 8))\n",
    "for i,k in enumerate(['all others (PBMC8K)','B only (Cite-Seq) ']):\n",
    "    idx = batch_s==i\n",
    "    ax.scatter(latent_u[idx, 0], latent_u[idx, 1], c=colors[i%20], label=k,\n",
    "                   edgecolors='none')\n",
    "plt.legend(bbox_to_anchor=(1.1, 0.5), borderaxespad=0, fontsize='x-large')\n",
    "plt.axis(\"off\")\n",
    "fig.tight_layout()\n",
    "plt.savefig(\"figures/SCANVI_stress_vaeUMAP_batch.pdf\", transparency=True)\n"
   ]
  },
  {
   "cell_type": "markdown",
   "metadata": {},
   "source": [
    "### SCANVI latent space"
   ]
  },
  {
   "cell_type": "code",
   "execution_count": null,
   "metadata": {},
   "outputs": [],
   "source": [
    "latent_scanvi, _, _ = full_scanvi.sequential().get_latent()\n",
    "latent_s = latent_scanvi[sample, :]\n",
    "\n",
    "from umap import UMAP\n",
    "latent_scanvi_u = UMAP(spread=2).fit_transform(latent_s)\n",
    "\n",
    "fig, ax = plt.subplots(figsize=(8, 8))\n",
    "for i,k in enumerate(key_order):\n",
    "    idx = label_s==k\n",
    "    ax.scatter(latent_scanvi_u[idx, 0], latent_scanvi_u[idx, 1], c=colors[i%20], label=keys[k],\n",
    "                   edgecolors='none')\n",
    "# plt.legend(bbox_to_anchor=(1.1, 0.5), borderaxespad=0, fontsize='x-large')\n",
    "plt.axis(\"off\")\n",
    "fig.tight_layout()\n",
    "plt.savefig(\"figures/SCANVI_stress_scanviUMAP_labels.pdf\", transparency=True)\n",
    "\n",
    "fig, ax = plt.subplots(figsize=(8, 8))\n",
    "for i,k in enumerate(['all others (PBMC8K)','B only (Cite-Seq) ']):\n",
    "    idx = batch_s==i\n",
    "    ax.scatter(latent_scanvi_u[idx, 0], latent_scanvi_u[idx, 1], c=colors[i%20], label=k,\n",
    "                   edgecolors='none')\n",
    "plt.legend(bbox_to_anchor=(1.1, 0.5), borderaxespad=0, fontsize='x-large')\n",
    "plt.axis(\"off\")\n",
    "fig.tight_layout()\n",
    "plt.savefig(\"figures/SCANVI_stress_scanviUMAP_batch.pdf\", transparency=True)\n"
   ]
  },
  {
   "cell_type": "markdown",
   "metadata": {},
   "source": [
    "### Incorrect number of classes SCANVI"
   ]
  },
  {
   "cell_type": "code",
   "execution_count": null,
   "metadata": {},
   "outputs": [],
   "source": [
    "latent_scanvi_false, _, _ = full_scanvi_false.sequential().get_latent()\n",
    "\n",
    "latent_s = latent_scanvi_false[sample, :]\n",
    "\n",
    "from umap import UMAP\n",
    "latent_scanvi_false_u = UMAP(spread=2).fit_transform(latent_s)\n",
    "\n",
    "fig, ax = plt.subplots(figsize=(8, 8))\n",
    "for i,k in enumerate(key_order):\n",
    "    idx = label_s==k\n",
    "    ax.scatter(latent_scanvi_false_u[idx, 0], latent_scanvi_false_u[idx, 1], c=colors[i%20], label=keys[k],\n",
    "                   edgecolors='none')\n",
    "# plt.legend(bbox_to_anchor=(1.1, 0.5), borderaxespad=0, fontsize='x-large')\n",
    "plt.axis(\"off\")\n",
    "fig.tight_layout()\n",
    "plt.savefig(\"figures/SCANVI_stress_falsescanviUMAP_labels.pdf\", transparency=True)\n",
    "\n",
    "fig, ax = plt.subplots(figsize=(8, 8))\n",
    "for i,k in enumerate(['all others (PBMC8K)','B only (Cite-Seq) ']):\n",
    "    idx = batch_s==i\n",
    "    ax.scatter(latent_scanvi_false_u[idx, 0], latent_scanvi_false_u[idx, 1], c=colors[i%20], label=k,\n",
    "                   edgecolors='none')\n",
    "# plt.legend(bbox_to_anchor=(1.1, 0.5), borderaxespad=0, fontsize='x-large')\n",
    "plt.axis(\"off\")\n",
    "fig.tight_layout()\n",
    "plt.savefig(\"figures/SCANVI_stress_falsescanviUMAP_batch.pdf\", transparency=True)\n"
   ]
  },
  {
   "cell_type": "code",
   "execution_count": null,
   "metadata": {},
   "outputs": [],
   "source": []
  },
  {
   "cell_type": "code",
   "execution_count": null,
   "metadata": {},
   "outputs": [],
   "source": []
  }
 ],
 "metadata": {
  "kernelspec": {
   "display_name": "Python [conda env:pytorch_p36]",
   "language": "python",
   "name": "conda-env-pytorch_p36-py"
  },
  "language_info": {
   "codemirror_mode": {
    "name": "ipython",
    "version": 3
   },
   "file_extension": ".py",
   "mimetype": "text/x-python",
   "name": "python",
   "nbconvert_exporter": "python",
   "pygments_lexer": "ipython3",
   "version": "3.6.7"
  }
 },
 "nbformat": 4,
 "nbformat_minor": 2
}
