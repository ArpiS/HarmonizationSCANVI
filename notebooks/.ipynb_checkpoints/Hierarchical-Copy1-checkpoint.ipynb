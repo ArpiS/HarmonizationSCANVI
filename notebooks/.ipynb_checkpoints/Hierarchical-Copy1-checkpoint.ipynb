{
 "cells": [
  {
   "cell_type": "code",
   "execution_count": 1,
   "metadata": {},
   "outputs": [],
   "source": [
    "import os\n",
    "os.chdir(\"/home/ec2-user/scVI/\")\n",
    "os.getcwd()\n",
    "\n",
    "from scvi.dataset.MouseBrain import ZeiselMoleArchData\n"
   ]
  },
  {
   "cell_type": "code",
   "execution_count": 2,
   "metadata": {},
   "outputs": [],
   "source": [
    "\n",
    "import matplotlib\n",
    "matplotlib.rcParams['pdf.fonttype'] = 42\n",
    "matplotlib.rcParams['ps.fonttype'] = 42\n",
    "import matplotlib.pyplot as plt\n",
    "import seaborn as sns\n",
    "%matplotlib inline\n",
    "\n",
    "from umap import UMAP\n",
    "\n",
    "use_cuda = True\n",
    "import torch"
   ]
  },
  {
   "cell_type": "code",
   "execution_count": 53,
   "metadata": {},
   "outputs": [],
   "source": [
    "from scvi.inference.annotation import compute_accuracy_tuple"
   ]
  },
  {
   "cell_type": "markdown",
   "metadata": {},
   "source": [
    "# import scVI models\n"
   ]
  },
  {
   "cell_type": "code",
   "execution_count": 3,
   "metadata": {},
   "outputs": [],
   "source": [
    "\n",
    "from scvi.inference import UnsupervisedTrainer, SemiSupervisedTrainer\n",
    "from scvi.models.scanvi import SCANVI\n",
    "from scvi.models.vae import VAE"
   ]
  },
  {
   "cell_type": "code",
   "execution_count": 4,
   "metadata": {},
   "outputs": [],
   "source": [
    "import numpy as np"
   ]
  },
  {
   "cell_type": "code",
   "execution_count": 5,
   "metadata": {},
   "outputs": [],
   "source": [
    "gene_dataset = ZeiselMoleArchData()"
   ]
  },
  {
   "cell_type": "code",
   "execution_count": 6,
   "metadata": {},
   "outputs": [],
   "source": [
    "gene_dataset_fine = ZeiselMoleArchData(coarse=False)"
   ]
  },
  {
   "cell_type": "code",
   "execution_count": 7,
   "metadata": {},
   "outputs": [
    {
     "name": "stdout",
     "output_type": "stream",
     "text": [
      "The number of classes in the coarse data is 39\n",
      "\n",
      "The number of classes in the fine data is 265\n",
      "\n",
      "the mapping of fine to coarse labels is Correct\n",
      "\n"
     ]
    }
   ],
   "source": [
    "print(\"The number of classes in the coarse data is %i\\n\" % len(np.unique(gene_dataset.labels)))\n",
    "print(\"The number of classes in the fine data is %i\\n\" % len(np.unique(gene_dataset_fine.labels)))\n",
    "if np.sum([gene_dataset_fine.labels_groups[x] for x in gene_dataset_fine.labels.ravel()] == gene_dataset.labels.ravel()) == len(gene_dataset_fine):\n",
    "    print(\"the mapping of fine to coarse labels is Correct\\n\") \n",
    "else: print(\"check that labels_groups is right\")\n",
    "     \n"
   ]
  },
  {
   "cell_type": "code",
   "execution_count": 8,
   "metadata": {},
   "outputs": [
    {
     "name": "stdout",
     "output_type": "stream",
     "text": [
      "Downsampling from 27998 to 1001 genes\n",
      "Downsampling from 160796 to 160796 cells\n",
      "Downsampling from 27998 to 1001 genes\n",
      "Downsampling from 160796 to 160796 cells\n"
     ]
    }
   ],
   "source": [
    "import pandas as pd\n",
    "genes1 = pd.read_table('../Zeisel/Zeisel.1.hvg_info.csv', delimiter=',')\n",
    "geneid1 = np.asarray([x.replace('gene_', '') for x in genes1[genes1.keys()[0]]]).astype('int')\n",
    "genenames1 = genes1['genename']\n",
    "assert np.sum(np.asarray(genenames1) == gene_dataset.gene_names) == len(gene_dataset.gene_names)\n",
    "genes = gene_dataset.gene_names[geneid1[:1000]]\n",
    "from scvi.harmonization.utils_chenling import subsetByGenenames\n",
    "gene_dataset = subsetByGenenames(gene_dataset,genes)\n",
    "gene_dataset_fine = subsetByGenenames(gene_dataset_fine,genes)"
   ]
  },
  {
   "cell_type": "code",
   "execution_count": 9,
   "metadata": {},
   "outputs": [
    {
     "data": {
      "text/plain": [
       "VAE(\n",
       "  (z_encoder): Encoder(\n",
       "    (encoder): FCLayers(\n",
       "      (fc_layers): Sequential(\n",
       "        (Layer 0): Sequential(\n",
       "          (linear_0): Linear(in_features=1001, out_features=128, bias=True)\n",
       "          (batch_norm_0): BatchNorm1d(128, eps=0.001, momentum=0.01, affine=True, track_running_stats=True)\n",
       "          (non_linearity_0): ReLU()\n",
       "        )\n",
       "        (Layer 1): Sequential(\n",
       "          (linear_1): Linear(in_features=128, out_features=128, bias=True)\n",
       "          (batch_norm_1): BatchNorm1d(128, eps=0.001, momentum=0.01, affine=True, track_running_stats=True)\n",
       "          (non_linearity_1): ReLU()\n",
       "          (dropout_1): Dropout(p=0.1)\n",
       "        )\n",
       "      )\n",
       "    )\n",
       "    (mean_encoder): Linear(in_features=128, out_features=10, bias=True)\n",
       "    (var_encoder): Linear(in_features=128, out_features=10, bias=True)\n",
       "  )\n",
       "  (l_encoder): Encoder(\n",
       "    (encoder): FCLayers(\n",
       "      (fc_layers): Sequential(\n",
       "        (Layer 0): Sequential(\n",
       "          (linear_0): Linear(in_features=1001, out_features=128, bias=True)\n",
       "          (batch_norm_0): BatchNorm1d(128, eps=0.001, momentum=0.01, affine=True, track_running_stats=True)\n",
       "          (non_linearity_0): ReLU()\n",
       "        )\n",
       "      )\n",
       "    )\n",
       "    (mean_encoder): Linear(in_features=128, out_features=1, bias=True)\n",
       "    (var_encoder): Linear(in_features=128, out_features=1, bias=True)\n",
       "  )\n",
       "  (decoder): DecoderSCVI(\n",
       "    (px_decoder): FCLayers(\n",
       "      (fc_layers): Sequential(\n",
       "        (Layer 0): Sequential(\n",
       "          (linear_0): Linear(in_features=10, out_features=128, bias=True)\n",
       "          (batch_norm_0): BatchNorm1d(128, eps=0.001, momentum=0.01, affine=True, track_running_stats=True)\n",
       "          (non_linearity_0): ReLU()\n",
       "        )\n",
       "        (Layer 1): Sequential(\n",
       "          (linear_1): Linear(in_features=128, out_features=128, bias=True)\n",
       "          (batch_norm_1): BatchNorm1d(128, eps=0.001, momentum=0.01, affine=True, track_running_stats=True)\n",
       "          (non_linearity_1): ReLU()\n",
       "          (dropout_1): Dropout(p=0.1)\n",
       "        )\n",
       "      )\n",
       "    )\n",
       "    (px_scale_decoder): Sequential(\n",
       "      (0): Linear(in_features=128, out_features=1001, bias=True)\n",
       "      (1): Softmax()\n",
       "    )\n",
       "    (px_r_decoder): Linear(in_features=128, out_features=1001, bias=True)\n",
       "    (px_dropout_decoder): Linear(in_features=128, out_features=1001, bias=True)\n",
       "  )\n",
       ")"
      ]
     },
     "execution_count": 9,
     "metadata": {},
     "output_type": "execute_result"
    }
   ],
   "source": [
    "vae = VAE(gene_dataset.nb_genes, n_batch=gene_dataset.n_batches, n_labels=gene_dataset.n_labels,\n",
    "          n_hidden=128, n_latent=10, n_layers=2, dispersion='gene')\n",
    "trainer = UnsupervisedTrainer(vae, gene_dataset, train_size=1.0)\n",
    "trainer.model.load_state_dict(torch.load('../Zeisel/vae.pkl'))\n",
    "trainer.model.eval()\n",
    "# trainer.train(n_epochs=250)\n",
    "# torch.save(trainer.model.state_dict(),'../Zeisel/vae.pkl')"
   ]
  },
  {
   "cell_type": "code",
   "execution_count": 24,
   "metadata": {},
   "outputs": [],
   "source": [
    "full = trainer.create_posterior(trainer.model, gene_dataset, indices=np.arange(len(gene_dataset)))"
   ]
  },
  {
   "cell_type": "markdown",
   "metadata": {},
   "source": [
    "# SCANVI coarse"
   ]
  },
  {
   "cell_type": "code",
   "execution_count": 25,
   "metadata": {},
   "outputs": [
    {
     "name": "stdout",
     "output_type": "stream",
     "text": [
      "training: 100%|██████████| 5/5 [04:06<00:00, 49.26s/it]\n"
     ]
    }
   ],
   "source": [
    "scanvi = SCANVI(gene_dataset.nb_genes, gene_dataset.n_batches, gene_dataset.n_labels, n_layers=2)\n",
    "scanvi.load_state_dict(full.model.state_dict(), strict=False)\n",
    "trainer_scanvi = SemiSupervisedTrainer(scanvi, gene_dataset, classification_ratio=50,\n",
    "                                       n_epochs_classifier=1, lr_classification=5 * 1e-3)\n",
    "trainer_scanvi.train(n_epochs=5)\n",
    "torch.save(trainer_scanvi.model.state_dict(),'../Zeisel/scanvi.coarse.pkl')\n",
    "trainer_scanvi.model.load_state_dict(torch.load('../Zeisel/scanvi.coarse.pkl'))\n",
    "trainer_scanvi.model.eval()\n",
    "full_coarse = trainer_scanvi.create_posterior(trainer_scanvi.model, gene_dataset, indices=np.arange(len(gene_dataset)))\n"
   ]
  },
  {
   "cell_type": "markdown",
   "metadata": {},
   "source": [
    "# SCANVI Fine"
   ]
  },
  {
   "cell_type": "code",
   "execution_count": 106,
   "metadata": {},
   "outputs": [],
   "source": [
    "K=10"
   ]
  },
  {
   "cell_type": "code",
   "execution_count": 107,
   "metadata": {},
   "outputs": [
    {
     "name": "stdout",
     "output_type": "stream",
     "text": [
      "training: 100%|██████████| 5/5 [22:04<00:00, 264.87s/it]\n"
     ]
    }
   ],
   "source": [
    "scanvi = SCANVI(gene_dataset_fine.nb_genes, gene_dataset_fine.n_batches, gene_dataset_fine.n_labels, n_layers=2)\n",
    "scanvi.load_state_dict(full.model.state_dict(), strict=False)\n",
    "trainer_scanvi = SemiSupervisedTrainer(scanvi, gene_dataset_fine, classification_ratio=50,\n",
    "                                       n_epochs_classifier=1, lr_classification=5 * 1e-3,n_labelled_samples_per_class=K)\n",
    "trainer_scanvi.train(n_epochs=5)\n",
    "torch.save(trainer_scanvi.model.state_dict(),'../Zeisel/scanvi.%i.pkl'%K)\n",
    "trainer_scanvi.model.load_state_dict(torch.load('../Zeisel/scanvi.%i.pkl'%K))\n",
    "trainer_scanvi.model.eval()\n",
    "full_fine = trainer_scanvi.create_posterior(trainer_scanvi.model, gene_dataset_fine, indices=np.arange(len(gene_dataset_fine)))"
   ]
  },
  {
   "cell_type": "code",
   "execution_count": 125,
   "metadata": {},
   "outputs": [],
   "source": [
    "y,pred = full_fine.sequential().compute_predictions()"
   ]
  },
  {
   "cell_type": "markdown",
   "metadata": {},
   "source": [
    "# SCANVI Hierarchical"
   ]
  },
  {
   "cell_type": "code",
   "execution_count": 110,
   "metadata": {},
   "outputs": [
    {
     "name": "stdout",
     "output_type": "stream",
     "text": [
      "training: 100%|██████████| 5/5 [29:09<00:00, 349.97s/it]\n"
     ]
    }
   ],
   "source": [
    "scanvi = SCANVI(gene_dataset_fine.nb_genes, gene_dataset_fine.n_batches, gene_dataset_fine.n_labels, n_layers=2,\n",
    "               labels_groups=gene_dataset_fine.labels_groups, use_labels_groups=True)\n",
    "\n",
    "scanvi.load_state_dict(full.model.state_dict(), strict=False)\n",
    "\n",
    "\n",
    "trainer_scanvi = SemiSupervisedTrainer(scanvi, gene_dataset_fine, classification_ratio=50,\n",
    "                                       n_epochs_classifier=1, lr_classification=5 * 1e-3,n_labelled_samples_per_class=K)\n",
    "\n",
    "trainer_scanvi.train(n_epochs=5)\n",
    "torch.save(trainer_scanvi.model.state_dict(),'../Zeisel/scanvi.hier.%i.pkl'%K)\n",
    "trainer_scanvi.model.load_state_dict(torch.load('../Zeisel/scanvi.hier.%i.pkl'%K))\n",
    "trainer_scanvi.model.eval()\n",
    "full_hier = trainer_scanvi.create_posterior(trainer_scanvi.model, gene_dataset_fine, indices=np.arange(len(gene_dataset_fine)))"
   ]
  },
  {
   "cell_type": "code",
   "execution_count": null,
   "metadata": {},
   "outputs": [],
   "source": [
    "y,pred = full_hier.sequential().compute_predictions()\n",
    "np.mean(y==pred)"
   ]
  },
  {
   "cell_type": "code",
   "execution_count": 105,
   "metadata": {},
   "outputs": [
    {
     "data": {
      "text/plain": [
       "0.6237530784347869"
      ]
     },
     "execution_count": 105,
     "metadata": {},
     "output_type": "execute_result"
    }
   ],
   "source": [
    "y,pred = full_hier.sequential().compute_predictions()\n",
    "np.mean(y==pred)"
   ]
  },
  {
   "cell_type": "markdown",
   "metadata": {},
   "source": [
    "# scVI and Seurat latent space"
   ]
  },
  {
   "cell_type": "code",
   "execution_count": 28,
   "metadata": {},
   "outputs": [],
   "source": [
    "vae_posterior = trainer.create_posterior(trainer.model, gene_dataset, indices=np.arange(len(gene_dataset)))\n",
    "seurat_latent = np.genfromtxt('../Zeisel/Zeisel.1.CCA.txt')\n",
    "latent, batch_indices, labels = vae_posterior.sequential().get_latent()\n",
    "batch_indices = batch_indices.ravel()"
   ]
  },
  {
   "cell_type": "markdown",
   "metadata": {},
   "source": [
    "# Coarse to Coarse"
   ]
  },
  {
   "cell_type": "code",
   "execution_count": 7,
   "metadata": {},
   "outputs": [],
   "source": [
    "import copy\n",
    "gene_dataset_coarse = copy.deepcopy(gene_dataset)\n",
    "gene_dataset_coarse.labels = gene_dataset.labels_groups[gene_dataset.labels.ravel()].reshape(len(gene_dataset),1)\n",
    "gene_dataset_coarse.cell_types = gene_dataset.groups\n",
    "gene_dataset_coarse.n_labels = gene_dataset.groups.shape[0]"
   ]
  },
  {
   "cell_type": "code",
   "execution_count": 178,
   "metadata": {},
   "outputs": [],
   "source": [
    "scanvi = SCANVI(gene_dataset.nb_genes, gene_dataset.n_batches, gene_dataset.n_labels, n_layers=2)\n",
    "scanvi.load_state_dict(full.model.state_dict(), strict=False)\n",
    "trainer_scanvi = SemiSupervisedTrainer(scanvi, gene_dataset, classification_ratio=50,\n",
    "                                       n_epochs_classifier=1, lr_classification=5 * 1e-3)\n",
    "labelled_idx = trainer_scanvi.labelled_set.indices\n",
    "unlabelled_idx= trainer_scanvi.unlabelled_set.indices"
   ]
  },
  {
   "cell_type": "code",
   "execution_count": 37,
   "metadata": {},
   "outputs": [],
   "source": [
    "from sklearn.neighbors import KNeighborsClassifier\n",
    "def PartialPrediction(latent,labelled_idx,unlabelled_idx,labels):\n",
    "        latent_labelled = latent[labelled_idx, :]\n",
    "        latent_unlabelled = latent[unlabelled_idx, :]\n",
    "        labels_labelled = labels[labelled_idx]\n",
    "        labels_unlabelled = labels[unlabelled_idx]\n",
    "        neigh = KNeighborsClassifier(n_neighbors=10)\n",
    "        neigh = neigh.fit(latent_labelled, labels_labelled)\n",
    "        labels_pred = neigh.predict(latent_unlabelled)\n",
    "        return labels_pred\n"
   ]
  },
  {
   "cell_type": "code",
   "execution_count": 175,
   "metadata": {},
   "outputs": [],
   "source": [
    "coarse_latent, _, _ = full_coarse.sequential().get_latent()"
   ]
  },
  {
   "cell_type": "code",
   "execution_count": 180,
   "metadata": {},
   "outputs": [],
   "source": [
    "coarse_pred=(PartialPrediction(coarse_latent, labelled_idx,unlabelled_idx,gene_dataset.labels.ravel()))\n"
   ]
  },
  {
   "cell_type": "code",
   "execution_count": 55,
   "metadata": {},
   "outputs": [],
   "source": [
    "# seurat coarse\n",
    "seurat_coarse_pred=(PartialPrediction(seurat_latent, labelled_idx,unlabelled_idx,gene_dataset.labels.ravel()))\n",
    "# scVI coarse\n",
    "scVI_coarse_pred=(PartialPrediction(latent, labelled_idx,unlabelled_idx,gene_dataset.labels.ravel()))\n",
    "coarse_pred=(PartialPrediction(coarse_latent, labelled_idx,unlabelled_idx,gene_dataset.labels.ravel()))\n",
    "y,SCANVI_coarse_pred = full_coarse.sequential().compute_predictions()"
   ]
  },
  {
   "cell_type": "code",
   "execution_count": 181,
   "metadata": {},
   "outputs": [],
   "source": [
    "seurat_coarse_acc = compute_accuracy_tuple(seurat_coarse_pred,gene_dataset.labels.ravel()[unlabelled_idx])\n",
    "scVI_coarse_acc = compute_accuracy_tuple(scVI_coarse_pred,gene_dataset.labels.ravel()[unlabelled_idx])\n",
    "coarse_acc = compute_accuracy_tuple(coarse_pred,gene_dataset.labels.ravel()[unlabelled_idx])\n",
    "scanvi_coarse_acc = compute_accuracy_tuple(SCANVI_coarse_pred[unlabelled_idx],gene_dataset.labels.ravel()[unlabelled_idx])"
   ]
  },
  {
   "cell_type": "code",
   "execution_count": 182,
   "metadata": {},
   "outputs": [
    {
     "data": {
      "text/plain": [
       "Accuracy(unweighted=0.8321204185185652, weighted=0.6697590421780415, worst=0.0, accuracy_classes=[0.993034418169047, 0.7115416459678755, 0.4193357058125741, 0.8758169934640523, 0.4362337510247101, 0.14004078857919783, 0.6461872777558277, 0.46396935599712713, 0.9986597740762014, 0.994263862332696, 0.9990566037735849, 0.08619173262972735, 0.3313644418192558, 0.9986984008925252, 0.8640171858216971, 0.975597609561753, 0.73492945703292, 0.5231741573033708, 0.9997646663304757, 0.30726256983240224, 0.9706756489003369, 0.42771084337349397, 0.8397129186602871, 0.6929347826086957, 0.9984794728839331, 0.9738461538461538, 0.0, 0.3141025641025641, 0.2255813953488372, 0.3191489361702128, 0.12471783295711061, 0.10299003322259136, 0.9707903780068728, 0.9200060716454159, 0.9783864609528988, 0.9311343882326721, 0.9525471039776692, 0.9505381855458739, 0.9281590763309814])"
      ]
     },
     "execution_count": 182,
     "metadata": {},
     "output_type": "execute_result"
    }
   ],
   "source": [
    "seurat_coarse_acc"
   ]
  },
  {
   "cell_type": "code",
   "execution_count": 183,
   "metadata": {},
   "outputs": [
    {
     "data": {
      "text/plain": [
       "Accuracy(unweighted=0.8158845674426802, weighted=0.6857096886332881, worst=0.0, accuracy_classes=[0.983525641025641, 0.8604260089686099, 0.5920177383592018, 0.9103139013452914, 0.5208253235934897, 0.1852695520121488, 0.615549215406562, 0.5396425297891843, 0.9988228369629194, 0.9299191374663073, 0.9781328847771237, 0.20794148380355276, 0.4050377833753149, 0.9860268431697004, 0.8572031217042818, 0.8668141592920354, 0.7802527307774684, 0.18712691409291463, 0.9996631484392544, 0.5679561793906196, 0.8528190937391906, 0.4868421052631579, 0.9896103896103896, 0.7563025210084033, 0.9695481335952849, 0.797724399494311, 0.0, 0.27995602784902895, 0.11448598130841121, 0.5700934579439252, 0.11845178511845178, 0.1989247311827957, 0.9428571428571428, 0.964824120603015, 0.9796185202276573, 0.9546676222899122, 0.9437458636664461, 0.8945355191256831, 0.9552033080634046])"
      ]
     },
     "execution_count": 183,
     "metadata": {},
     "output_type": "execute_result"
    }
   ],
   "source": [
    "scVI_coarse_acc"
   ]
  },
  {
   "cell_type": "code",
   "execution_count": 184,
   "metadata": {},
   "outputs": [
    {
     "data": {
      "text/plain": [
       "Accuracy(unweighted=0.9196013749165859, weighted=0.8246896993509832, worst=0.0, accuracy_classes=[0.9638692888955612, 0.8895783902171929, 0.7860169491525424, 0.9950980392156863, 0.8349025618567988, 0.7913043478260869, 0.6852073025081045, 0.6651090342679128, 0.9981837300449288, 0.9720930232558139, 0.9890572390572391, 0.4753246753246753, 0.6635873749037722, 0.998320895522388, 0.9125766871165644, 0.987945755901557, 0.8407950210801044, 0.774617067833698, 0.9993337996735618, 0.633832231117299, 0.9794354838709678, 0.8181818181818182, 0.994026284348865, 0.9254302103250478, 0.9969727547931383, 0.9890282131661442, 0.0, 0.6653266331658292, 0.287556904400607, 0.6896551724137931, 0.7348993288590604, 0.6346153846153846, 0.9840213049267643, 0.8925089179548157, 0.9574560216508796, 0.9712230215827338, 0.9244673983214977, 0.9477440734132042, 0.9135959339263025])"
      ]
     },
     "execution_count": 184,
     "metadata": {},
     "output_type": "execute_result"
    }
   ],
   "source": [
    "scanvi_coarse_acc"
   ]
  },
  {
   "cell_type": "code",
   "execution_count": 185,
   "metadata": {},
   "outputs": [
    {
     "data": {
      "text/plain": [
       "Accuracy(unweighted=0.8568739533888168, weighted=0.7422458552756389, worst=0.0, accuracy_classes=[0.9936227776346302, 0.8948275862068965, 0.7779960707269156, 0.9354838709677419, 0.625019116072794, 0.1827956989247312, 0.5797123164519029, 0.6609749380335995, 0.9992252566337401, 0.9532538955087076, 0.9890295358649789, 0.27555555555555555, 0.4924791086350975, 0.9948080845540516, 0.9007305543618392, 0.9751119960179193, 0.8460207612456747, 0.21762429294432867, 0.9999642205445634, 0.5850162866449511, 0.9430511031491609, 0.7326732673267327, 0.9926017262638718, 0.8913857677902621, 0.9909774436090225, 0.9692307692307692, 0.0, 0.4369212962962963, 0.19799726900318615, 0.49586776859504134, 0.14995563442768411, 0.49333333333333335, 0.989010989010989, 0.9663076923076923, 0.9858615221987315, 0.97662100456621, 0.9404367968232958, 0.9741030482870245, 0.942])"
      ]
     },
     "execution_count": 185,
     "metadata": {},
     "output_type": "execute_result"
    }
   ],
   "source": [
    "coarse_acc"
   ]
  },
  {
   "cell_type": "code",
   "execution_count": 189,
   "metadata": {},
   "outputs": [
    {
     "name": "stdout",
     "output_type": "stream",
     "text": [
      "0.832 & 0.816 &0.920 &0.857 & & \\\\\n"
     ]
    }
   ],
   "source": [
    "print(\"%.3f & %.3f &%.3f &%.3f & & \\\\\\\\\"%(seurat_coarse_acc[0], scVI_coarse_acc[0],scanvi_coarse_acc[0],coarse_acc[0]))"
   ]
  },
  {
   "cell_type": "code",
   "execution_count": 190,
   "metadata": {},
   "outputs": [
    {
     "name": "stdout",
     "output_type": "stream",
     "text": [
      "0.670 & 0.686 &0.825 &0.742 & & \\\\\n"
     ]
    }
   ],
   "source": [
    "print(\"%.3f & %.3f &%.3f &%.3f & & \\\\\\\\\"%(seurat_coarse_acc[1], scVI_coarse_acc[1],scanvi_coarse_acc[1],coarse_acc[1]))"
   ]
  },
  {
   "cell_type": "markdown",
   "metadata": {},
   "source": [
    "# Fine to Fine"
   ]
  },
  {
   "cell_type": "code",
   "execution_count": 111,
   "metadata": {},
   "outputs": [],
   "source": [
    "scanvi = SCANVI(gene_dataset_fine.nb_genes, gene_dataset_fine.n_batches, gene_dataset_fine.n_labels, n_layers=2)\n",
    "scanvi.load_state_dict(full.model.state_dict(), strict=False)\n",
    "trainer_scanvi = SemiSupervisedTrainer(scanvi, gene_dataset_fine, classification_ratio=50,\n",
    "                                       n_epochs_classifier=1, lr_classification=5 * 1e-3,n_labelled_samples_per_class=K)\n",
    "labelled_idx = trainer_scanvi.labelled_set.indices\n",
    "unlabelled_idx= trainer_scanvi.unlabelled_set.indices"
   ]
  },
  {
   "cell_type": "code",
   "execution_count": 140,
   "metadata": {},
   "outputs": [],
   "source": [
    "scanvi_latent,_,_ = full_fine.sequential().get_latent()"
   ]
  },
  {
   "cell_type": "code",
   "execution_count": 141,
   "metadata": {},
   "outputs": [],
   "source": [
    "scanvi_hier_latent,_,_ = full_hier.sequential().get_latent()"
   ]
  },
  {
   "cell_type": "code",
   "execution_count": 137,
   "metadata": {},
   "outputs": [
    {
     "data": {
      "text/plain": [
       "2650"
      ]
     },
     "execution_count": 137,
     "metadata": {},
     "output_type": "execute_result"
    }
   ],
   "source": [
    "len(labelled_idx)I "
   ]
  },
  {
   "cell_type": "code",
   "execution_count": 112,
   "metadata": {},
   "outputs": [],
   "source": [
    "seurat_fine_pred=(PartialPrediction(seurat_latent, labelled_idx,unlabelled_idx,gene_dataset_fine.labels.ravel()))\n",
    "scVI_fine_pred=(PartialPrediction(latent, labelled_idx,unlabelled_idx,gene_dataset_fine.labels.ravel()))\n",
    "fine_pred=(PartialPrediction(scanvi_latent, labelled_idx,unlabelled_idx,gene_dataset_fine.labels.ravel()))\n",
    "hier_pred=(PartialPrediction(scanvi_hier_latent, labelled_idx,unlabelled_idx,gene_dataset_fine.labels.ravel()))\n",
    "\n",
    "_,SCANVI_fine_pred = full_fine.sequential().compute_predictions()\n",
    "_,SCANVI_hier_pred = full_hier.sequential().compute_predictions()"
   ]
  },
  {
   "cell_type": "code",
   "execution_count": 142,
   "metadata": {},
   "outputs": [],
   "source": [
    "fine_pred=(PartialPrediction(scanvi_latent, labelled_idx,unlabelled_idx,gene_dataset_fine.labels.ravel()))\n",
    "hier_pred=(PartialPrediction(scanvi_hier_latent, labelled_idx,unlabelled_idx,gene_dataset_fine.labels.ravel()))\n"
   ]
  },
  {
   "cell_type": "code",
   "execution_count": 139,
   "metadata": {},
   "outputs": [
    {
     "data": {
      "text/plain": [
       "198"
      ]
     },
     "execution_count": 139,
     "metadata": {},
     "output_type": "execute_result"
    }
   ],
   "source": [
    "len(np.unique(SCANVI_hier_pred))"
   ]
  },
  {
   "cell_type": "code",
   "execution_count": 143,
   "metadata": {},
   "outputs": [],
   "source": [
    "seurat_fine_acc = compute_accuracy_tuple(seurat_fine_pred,gene_dataset_fine.labels.ravel()[unlabelled_idx])\n",
    "scVI_fine_acc = compute_accuracy_tuple(scVI_fine_pred,gene_dataset_fine.labels.ravel()[unlabelled_idx])\n",
    "fine_acc = compute_accuracy_tuple(fine_pred,gene_dataset_fine.labels.ravel()[unlabelled_idx])\n",
    "hier_acc = compute_accuracy_tuple(hier_pred,gene_dataset_fine.labels.ravel()[unlabelled_idx])\n",
    "scanvi_fine_acc = compute_accuracy_tuple(gene_dataset_fine.labels.ravel()[unlabelled_idx],SCANVI_fine_pred[unlabelled_idx])\n",
    "scanvi_hier_acc = compute_accuracy_tuple(gene_dataset_fine.labels.ravel()[unlabelled_idx],SCANVI_hier_pred[unlabelled_idx])"
   ]
  },
  {
   "cell_type": "code",
   "execution_count": 144,
   "metadata": {},
   "outputs": [
    {
     "data": {
      "text/plain": [
       "Accuracy(unweighted=0.5744312217824037, weighted=0.3841189333065316, worst=0.0, accuracy_classes=[0.8769230769230769, 0.9242902208201893, 0.7177858439201452, 0.8312768612227922, 0.7403523489932886, 0.8502325581395349, 0.8142926592124453, 0.7754034016572177, 0.8529613537617197, 0.6143187066974596, 0.014204545454545454, 0.20320855614973263, 0.05150214592274678, 0.5784313725490197, 0.997624703087886, 0.7450628366247756, 0.38058252427184464, 0.1381118881118881, 0.5960264900662252, 0.10759493670886076, 0.7829010566762729, 0.5401662049861495, 0.6518607442977191, 0.07114624505928854, 0.09501187648456057, 0.24065420560747663, 0.10101010101010101, 0.19480519480519481, 0.03170731707317073, 0.018867924528301886, 0.004484304932735426, 0.1787709497206704, 0.07857142857142857, 0.0, 0.20877252635158108, 0.5851763299462044, 0.11889035667107001, 0.6211111111111111, 0.9487179487179487, 0.047619047619047616, 0.611764705882353, 0.31512605042016806, 0.4476744186046512, 0.8579881656804734, 0.4716981132075472, 0.07407407407407407, 0.4563758389261745, 0.9833333333333333, 0.8342541436464088, 0.6302552552552553, 0.41050756901157615, 0.8604289710910786, 0.404099560761347, 0.3768768768768769, 0.8902691511387164, 0.9891640866873065, 0.37777777777777777, 0.7737068965517241, 0.09333333333333334, 0.0, 0.01762114537444934, 0.5373134328358209, 0.5862068965517241, 0.2553191489361702, 0.041025641025641026, 0.23275862068965517, 0.15315315315315314, 0.0, 0.6265060240963856, 0.4900662251655629, 0.47126436781609193, 0.005376344086021506, 0.1891891891891892, 0.0, 0.06666666666666667, 0.22388059701492538, 0.10429447852760736, 0.608, 0.13114754098360656, 0.05102040816326531, 0.0, 0.1111111111111111, 0.09859154929577464, 0.36507936507936506, 0.6309523809523809, 0.16666666666666666, 0.37142857142857144, 0.27358490566037735, 0.967741935483871, 0.031578947368421054, 0.022935779816513763, 0.06550218340611354, 0.038461538461538464, 0.5555555555555556, 0.1935483870967742, 0.0, 0.025423728813559324, 0.0872093023255814, 0.13953488372093023, 0.1652892561983471, 0.10256410256410256, 0.08906882591093117, 0.1456953642384106, 0.9259259259259259, 0.06790123456790123, 0.0546448087431694, 0.038461538461538464, 0.1864406779661017, 0.08011049723756906, 0.12162162162162163, 0.30038022813688214, 0.06451612903225806, 0.022082018927444796, 0.7375565610859729, 0.044444444444444446, 0.013157894736842105, 0.16129032258064516, 0.0, 0.2217741935483871, 0.0821917808219178, 0.06611570247933884, 0.2611111111111111, 0.07647058823529412, 0.06611570247933884, 0.075, 0.2398921832884097, 0.500897080411026, 0.6188423645320197, 0.7617946345975948, 0.5357643758765779, 0.7481884057971014, 0.7237384645591989, 0.6469740634005764, 0.5615189873417722, 0.36858475894245724, 0.4288256227758007, 0.3103448275862069, 0.40487804878048783, 0.13780918727915195, 0.47718631178707227, 0.8310626702997275, 0.25040916530278234, 0.1252336448598131, 0.08168316831683169, 0.09168081494057725, 0.6964285714285714, 0.17365269461077845, 0.7828947368421053, 0.033444816053511704, 0.29473684210526313, 0.40441176470588236, 0.8170652876535229, 0.10394736842105264, 0.4460227272727273, 0.9900596421471173, 0.9206730769230769, 0.9342354533152909, 0.2887746358183376, 0.3914327917282127, 0.46875, 0.48936170212765956, 0.4375, 1.0, 0.1875, 0.8521739130434782, 0.43636363636363634, 0.6956521739130435, 0.9915966386554622, 0.6470588235294118, 0.4013605442176871, 0.379746835443038, 0.44, 0.0, 0.3333333333333333, 0.5, 0.13333333333333333, 0.7806060606060606, 0.7409470752089137, 0.3763779527559055, 0.46325878594249204, 0.8260869565217391, 0.9846390168970814, 0.03571428571428571, 0.06796116504854369, 0.06060606060606061, 0.049586776859504134, 0.2831858407079646, 0.79375, 0.3231707317073171, 0.016666666666666666, 0.03389830508474576, 0.23846153846153847, 0.972972972972973, 0.012711864406779662, 0.06538461538461539, 0.234375, 0.03879310344827586, 0.0, 0.03636363636363636, 0.026845637583892617, 0.14, 0.06666666666666667, 0.2222222222222222, 0.1276595744680851, 0.6766917293233082, 0.017241379310344827, 0.673469387755102, 0.15555555555555556, 0.1282051282051282, 0.8373493975903614, 0.7079646017699115, 0.28, 0.9023255813953488, 0.5, 0.13205207687538748, 0.5540386803185438, 0.44798500468603564, 0.05313092979127135, 0.057494866529774126, 0.02040816326530612, 0.453551912568306, 0.030035335689045935, 0.3445692883895131, 0.4927007299270073, 0.05982905982905983, 0.24733475479744135, 0.016267942583732056, 0.044715447154471545, 0.6714697406340058, 0.6067708333333334, 0.9341810022438295, 0.9665127020785219, 0.5573770491803278, 0.04961411245865491, 0.44041450777202074, 0.8820058997050148, 0.8997005988023952, 0.0776255707762557, 0.13636363636363635, 0.6544715447154471, 0.8467583497053045, 0.6206896551724138, 0.3474576271186441, 0.38990825688073394, 0.6941747572815534, 0.45935960591133007, 0.48756218905472637, 0.5842105263157895, 0.8763005780346821, 0.7277227722772277, 0.10416666666666667, 0.4817813765182186, 0.0, 0.4134078212290503, 0.5217391304347826, 0.20297029702970298, 0.16731517509727625, 0.0975609756097561, 0.2676056338028169, 0.706766917293233, 0.7646511627906977, 0.8989861058956065, 0.6252319109461967, 0.9713114754098361, 0.9939341421143848])"
      ]
     },
     "execution_count": 144,
     "metadata": {},
     "output_type": "execute_result"
    }
   ],
   "source": [
    "fine_acc"
   ]
  },
  {
   "cell_type": "code",
   "execution_count": 145,
   "metadata": {},
   "outputs": [
    {
     "data": {
      "text/plain": [
       "Accuracy(unweighted=0.5699164063586812, weighted=0.3909472257936246, worst=0.0, accuracy_classes=[0.9652173913043478, 0.9182389937106918, 0.7183226982680037, 0.8297178505600453, 0.6879626022594468, 0.8384353741496599, 0.748335552596538, 0.7727805106582338, 0.884514435695538, 0.5498392282958199, 0.023474178403755867, 0.26136363636363635, 0.06462585034013606, 0.580952380952381, 1.0, 0.827007299270073, 0.298465829846583, 0.145610278372591, 0.6153846153846154, 0.1168091168091168, 0.6734177215189874, 0.47794117647058826, 0.5319148936170213, 0.07534246575342465, 0.09829059829059829, 0.2264957264957265, 0.1036036036036036, 0.1716171617161716, 0.034482758620689655, 0.047493403693931395, 0.005319148936170213, 0.25263157894736843, 0.1301775147928994, 0.0, 0.1936957514846962, 0.6628712871287129, 0.15689381933438987, 0.6901811248808389, 0.7450980392156863, 0.11538461538461539, 0.5, 0.43795620437956206, 0.36531365313653136, 0.8952380952380953, 0.8048780487804879, 0.14285714285714285, 0.5035460992907801, 0.952755905511811, 0.8809523809523809, 0.6527987897125568, 0.35340729001584786, 0.8607356177302735, 0.4412470023980815, 0.41638513513513514, 0.8009554140127388, 0.988135593220339, 0.3167701863354037, 0.7269155206286837, 0.10294117647058823, 0.0, 0.01015228426395939, 0.5, 0.42857142857142855, 0.1956521739130435, 0.0189873417721519, 0.21428571428571427, 0.07608695652173914, 0.0, 0.6455696202531646, 0.5181818181818182, 0.5187165775401069, 0.007936507936507936, 0.10714285714285714, 0.0, 0.057692307692307696, 0.34375, 0.05921052631578947, 0.5465116279069767, 0.37209302325581395, 0.064, 0.0, 0.125, 0.11594202898550725, 0.40404040404040403, 0.6, 0.14634146341463414, 0.46153846153846156, 0.4603174603174603, 0.9381443298969072, 0.08955223880597014, 0.057291666666666664, 0.08430232558139535, 0.04878048780487805, 0.35294117647058826, 0.3409090909090909, 0.021739130434782608, 0.017857142857142856, 0.08421052631578947, 0.16666666666666666, 0.12025316455696203, 0.07692307692307693, 0.10285714285714286, 0.1448692152917505, 0.9032258064516129, 0.13333333333333333, 0.06315789473684211, 0.040892193308550186, 0.23113207547169812, 0.07142857142857142, 0.10623556581986143, 0.3401015228426396, 0.03076923076923077, 0.033860045146726865, 0.7090103397341211, 0.09174311926605505, 0.017857142857142856, 0.09090909090909091, 0.0, 0.2131979695431472, 0.07142857142857142, 0.013071895424836602, 0.1762114537444934, 0.05851063829787234, 0.043478260869565216, 0.043795620437956206, 0.2618384401114206, 0.508347245409015, 0.643069798213695, 0.7945071113290829, 0.5322206768660176, 0.7169025811823481, 0.7477203647416414, 0.7093327000712419, 0.4675164473684211, 0.37643020594965676, 0.47213622291021673, 0.33175355450236965, 0.46195069667738475, 0.13760603204524033, 0.5639412997903563, 0.8005390835579514, 0.2576271186440678, 0.14638157894736842, 0.08157653528872594, 0.08461538461538462, 0.7221362229102167, 0.220873786407767, 0.7949308755760369, 0.026829268292682926, 0.49056603773584906, 0.5108695652173914, 0.7600225861095427, 0.12027491408934708, 0.28107074569789675, 0.9895, 0.8888888888888888, 0.8819116421228119, 0.24070175438596492, 0.31505250875145857, 0.5789473684210527, 0.5272727272727272, 0.42857142857142855, 0.9961089494163424, 0.19895287958115182, 0.8296296296296296, 0.39285714285714285, 0.6521739130434783, 0.9508196721311475, 0.6842105263157895, 0.5564516129032258, 0.45454545454545453, 0.7407407407407407, 0.11428571428571428, 0.35714285714285715, 0.7, 0.2222222222222222, 0.8184885290148448, 0.6747211895910781, 0.38904899135446686, 0.4744525547445255, 0.7037037037037037, 0.9768875192604006, 0.0, 0.03164556962025317, 0.06451612903225806, 0.03201970443349754, 0.375, 0.775, 0.34782608695652173, 0.08, 0.0425531914893617, 0.2971698113207547, 0.8780487804878049, 0.004424778761061947, 0.07017543859649122, 0.38333333333333336, 0.04736842105263158, 0.02857142857142857, 0.0, 0.01485148514851485, 0.12781954887218044, 0.06756756756756757, 0.46296296296296297, 0.1956521739130435, 0.6571428571428571, 0.037037037037037035, 0.6607142857142857, 0.11267605633802817, 0.1033210332103321, 0.8074866310160428, 0.6917293233082706, 0.3111111111111111, 0.8798586572438163, 0.3617021276595745, 0.10692464358452139, 0.5753424657534246, 0.46560319042871384, 0.06294256490952006, 0.03767123287671233, 0.02710027100271003, 0.3864734299516908, 0.0430622009569378, 0.43346007604562736, 0.49228611500701264, 0.04639175257731959, 0.21867321867321868, 0.01948051948051948, 0.060209424083769635, 0.5110132158590308, 0.5776173285198556, 0.9363929146537843, 0.967479674796748, 0.5485714285714286, 0.04446460980036298, 0.4648318042813456, 0.8476658476658476, 0.9178498985801217, 0.06701940035273368, 0.2, 0.7562189054726368, 0.8580121703853956, 0.6221590909090909, 0.34299516908212563, 0.36910569105691055, 0.6838905775075987, 0.5950095969289827, 0.4696132596685083, 0.529045643153527, 0.8613744075829384, 0.8338658146964856, 0.10909090909090909, 0.43661971830985913, 0.11538461538461539, 0.5204460966542751, 0.6549295774647887, 0.18505338078291814, 0.15658362989323843, 0.09716599190283401, 0.2723735408560311, 0.5853658536585366, 0.8254593175853019, 0.8789152024446142, 0.6834224598930482, 0.883248730964467, 0.9939077458659704])"
      ]
     },
     "execution_count": 145,
     "metadata": {},
     "output_type": "execute_result"
    }
   ],
   "source": [
    "hier_acc"
   ]
  },
  {
   "cell_type": "code",
   "execution_count": 128,
   "metadata": {},
   "outputs": [
    {
     "data": {
      "text/plain": [
       "Accuracy(unweighted=0.3360122924386327, weighted=0.23518892013818413, worst=0.0, accuracy_classes=[0.9448818897637795, 0.9451152579582875, 0.0, 0.0, 0.9816262705238468, 0.0, 0.0, 0.9785516023214736, 0.0, 0.7975460122699386, 0.0, 0.3006535947712418, 0.0, 0.918918918918919, 0.0, 0.0, 0.0, 0.0, 0.9615384615384616, 0.0, 0.8807251908396947, 0.7489878542510121, 0.0, 0.0, 0.0, 0.0, 0.0, 0.6773162939297125, 0.0, 0.31208053691275167, 0.0, 0.0, 0.0, 0, 0.8376156217882836, 0.0, 0.0, 0.0, 0.8717948717948718, 0.0, 0.9175257731958762, 0.3103448275862069, 0.0, 0.0, 0.0, 0.0, 0.9655172413793104, 0.0, 0.9673202614379085, 0.0, 0.0, 0.0, 0.0, 0.9812734082397003, 0.0, 0.9895287958115183, 0.0, 0.0, 0.0, 0, 0.0, 0.0, 0.0, 0.0, 0.0, 0.0, 0.0, 0, 0.0, 0.0, 0.0, 1.0, 0.0, 0.0, 1.0, 0.0, 0.0, 0.0, 0.0, 0.9333333333333333, 0.0, 0.0, 0.46153846153846156, 0.0, 0.9191919191919192, 0.0, 0.0, 0.0, 0.9801980198019802, 0.0, 0.0, 0.09859154929577464, 0.0, 0.0, 0.0, 0.0, 0.6, 0.0, 0.0, 0.39622641509433965, 0.0, 0.0, 0.0, 0.8378378378378378, 0.0, 0.0, 0.0, 0.0, 0.0, 0.4375, 0.0, 0.0, 0.0, 0.0, 0.0, 0.0, 0.0, 0.0, 0.0, 0.0, 0.0, 0.0, 0.40540540540540543, 0.0, 0.0, 0.0, 0.8317909635274905, 0.0, 0.9986725663716814, 0.0, 0.0, 0.0, 0.9241620810405202, 0.0, 0.0, 0.9760147601476015, 0.0, 0.0, 0.3756906077348066, 0.0, 0.9700374531835206, 0.0, 0.0, 0.0, 0.0, 0.882122905027933, 0.0, 0.7758241758241758, 0.0, 0.0, 0.0, 0.0, 0.20202020202020202, 0.45993031358885017, 0.9940623453735774, 0.0, 0.0, 0.897489539748954, 0.9131944444444444, 0.0, 0.0, 0.8095238095238095, 0.9742647058823529, 0.0, 0.9884615384615385, 0.8857142857142857, 0.0, 0.9754098360655737, 0.5, 0.9456521739130435, 0.0, 0.0, 0.0, 0.0, 0.0, 0.5555555555555556, 0.0, 1.0, 0.0, 0.0, 0.0, 0.9984472049689441, 0.0, 0.0, 0.0, 0.0, 0.0, 0.6363636363636364, 0.6384615384615384, 0.0, 0.8, 0.0, 0.0, 0.375, 0.18181818181818182, 0.0, 0.0, 0.0, 0.0, 0.0, 0.0, 0.0, 0.0, 0.0, 0.8317757009345794, 0.0, 0.0, 0.0, 0.3076923076923077, 0.849624060150376, 0.5523255813953488, 0.0, 0.9531737773152965, 0.0, 0.2066326530612245, 0.6378504672897196, 0.0, 0.0, 0.0, 0.0, 0.5852272727272727, 0.0, 0.0, 0.0, 0.0, 0.0, 0.17777777777777778, 0.0, 0.569620253164557, 0.0, 0.8253576714356191, 0.9467694566813509, 0.5795107033639144, 0.0, 0.24489795918367346, 0.8041237113402062, 0.8569095066971578, 0.0, 0.0, 0.0, 0.8538461538461538, 0.0, 0.5228758169934641, 0.0, 0.0, 0.804416403785489, 0.0, 0.0, 0.8757281553398059, 0.0, 0.0, 0.4826666666666667, 0.0, 0.5858267716535434, 0.0, 0.0, 0.0, 0.0, 0.7631578947368421, 0.0, 0.9773399014778326, 0.0])"
      ]
     },
     "execution_count": 128,
     "metadata": {},
     "output_type": "execute_result"
    }
   ],
   "source": [
    "scanvi_fine_acc"
   ]
  },
  {
   "cell_type": "code",
   "execution_count": 129,
   "metadata": {},
   "outputs": [
    {
     "data": {
      "text/plain": [
       "Accuracy(unweighted=0.5750509023307577, weighted=0.37080140282483354, worst=0.0, accuracy_classes=[0.8110236220472441, 0.9132821075740944, 0.8660399529964747, 0.8811821471652593, 0.7200938232994527, 0.7345938375350141, 0.6541835357624831, 0.8854403229876356, 0.7477886684197944, 0.21779141104294478, 0.7142857142857143, 0.32679738562091504, 0.0, 0.918918918918919, 0.9620535714285714, 0.8515111695137977, 0.5737704918032787, 0.0, 0.5288461538461539, 0.0, 0.0, 0.0, 0.0, 0.0, 0.0, 0.2674772036474164, 0.0, 0.0, 0.425531914893617, 0.053691275167785234, 0.0, 0.3023255813953488, 0.11818181818181818, 0, 0.010277492291880781, 0.7102222222222222, 0.20134228187919462, 0.7463414634146341, 0.8974358974358975, 0.75, 0.4639175257731959, 0.296551724137931, 0.4827586206896552, 0.891566265060241, 0.3611111111111111, 0.6190476190476191, 0.45977011494252873, 0.9874213836477987, 0.8235294117647058, 0.8344186046511628, 0.17244444444444446, 0.7821021318790282, 0.3244206773618538, 0.5842696629213483, 0.5838991270611057, 0.8821989528795812, 0.6271186440677966, 0.9603960396039604, 0.26666666666666666, 0, 0.5, 0.6451612903225806, 0.0, 0.0, 0.0, 0.0, 0.0, 0, 0.6916666666666667, 0.2396694214876033, 0.23018867924528302, 1.0, 0.6781609195402298, 0.0, 0.5, 0.0, 0.16923076923076924, 0.0, 0.40384615384615385, 0.26666666666666666, 0.0, 0.0, 0.5384615384615384, 0.14736842105263157, 0.494949494949495, 0.2987012987012987, 0.2903225806451613, 0.4074074074074074, 0.9405940594059405, 0.10497237569060773, 0.0, 0.0, 0.0, 0.0, 0.7272727272727273, 0.6666666666666666, 0.0, 0.0, 0.2127659574468085, 0.37735849056603776, 0.0, 0.0, 0.0, 0.6756756756756757, 0.0, 0.0, 0.0, 0.0, 0.0, 0.0, 0.0, 0.0, 0.21212121212121213, 0.0, 0.0, 0.0, 0.0, 0.0, 0.0, 0.0, 0.0, 0.0, 0.0, 0.0, 0.0, 0.0, 0.5783886771910725, 0.7293139293139294, 0.8212389380530973, 0.5, 0.7516981132075472, 0.7470419299253303, 0.823511755877939, 0.2816748232735182, 0.5424912689173458, 0.253690036900369, 0.28213419563459985, 0.5463786531130876, 0.13259668508287292, 0.37087378640776697, 0.8283395755305868, 0.7251461988304093, 0.2742382271468144, 0.11070110701107011, 0.0, 0.6223463687150838, 0.163659793814433, 0.7648351648351648, 0.10869565217391304, 0.5116279069767442, 0.12558139534883722, 0.637219730941704, 0.13636363636363635, 0.07317073170731707, 0.9693221177634834, 0.7814814814814814, 0.6222693531283139, 0.38284518828451886, 0.9479166666666666, 0.9285714285714286, 0.14893617021276595, 0.42857142857142855, 0.9264705882352942, 0.5161290322580645, 0.5615384615384615, 0.6, 0.5, 0.9180327868852459, 0.5147058823529411, 0.6630434782608695, 0.8048780487804879, 0.308411214953271, 0.1, 0.5227272727272727, 0.4074074074074074, 0.1111111111111111, 0.913768115942029, 0.5627980922098569, 0.7917981072555205, 0.0, 0.8, 0.9782608695652174, 0.0, 0.05172413793103448, 0.18699186991869918, 0.15384615384615385, 0.6058823529411764, 0.43388429752066116, 0.2076923076923077, 0.45, 0.6, 0.4027777777777778, 1.0, 0.125, 0.0, 0.675, 0.07476635514018691, 0.0, 0.2222222222222222, 0.0, 0.0, 0.03278688524590164, 0.37662337662337664, 0.1891891891891892, 0.8598130841121495, 0.0, 0.0, 0.11494252873563218, 0.19230769230769232, 0.7593984962406015, 0.5697674418604651, 0.75, 0.8012486992715921, 0.36936936936936937, 0.2780612244897959, 0.4929906542056075, 0.49931224209078406, 0.034574468085106384, 0.08547008547008547, 0.32, 0.5340909090909091, 0.1568627450980392, 0.29328165374677, 0.500772797527048, 0.24050632911392406, 0.0, 0.2222222222222222, 0.11702127659574468, 0.47257383966244726, 0.0, 0.7982239763196842, 0.8979441997063142, 0.6070336391437309, 0.1810344827586207, 0.195578231292517, 0.7756701030927835, 0.8059457693564195, 0.026041666666666668, 0.0, 0.7775831873905429, 0.7907692307692308, 0.6555555555555556, 0.5620915032679739, 0.558252427184466, 0.0, 0.8690851735015773, 0.0, 0.6964618249534451, 0.7553398058252427, 0.4642588412340105, 0.40310077519379844, 0.496, 0.0, 0.24251968503937008, 0.2528473804100228, 0.31851851851851853, 0.29310344827586204, 0.19148936170212766, 0.3355263157894737, 0.9797979797979798, 0.0, 0.0])"
      ]
     },
     "execution_count": 129,
     "metadata": {},
     "output_type": "execute_result"
    }
   ],
   "source": [
    "scanvi_hier_acc"
   ]
  },
  {
   "cell_type": "code",
   "execution_count": 130,
   "metadata": {},
   "outputs": [
    {
     "data": {
      "text/plain": [
       "Accuracy(unweighted=0.512128033589215, weighted=0.3406363878344773, worst=0.0, accuracy_classes=[0.8175182481751825, 0.8115134633240483, 0.6248012718600954, 0.7742529386772412, 0.5836190476190476, 0.6933621933621934, 0.6552, 0.8074204946996466, 0.8976209569633787, 0.4772313296903461, 0.008869179600886918, 0.11198428290766209, 0.07517084282460136, 0.7205882352941176, 0.997624703087886, 0.6724237190558434, 0.30028735632183906, 0.08774834437086093, 0.5625, 0.074487895716946, 0.7457322551662174, 0.4353448275862069, 0.6367924528301887, 0.06649616368286446, 0.09566517189835576, 0.20911528150134048, 0.11397058823529412, 0.20424403183023873, 0.029661016949152543, 0.032846715328467155, 0.004366812227074236, 0.15057915057915058, 0.06091370558375635, 0.0, 0.19129720853858784, 0.569077306733167, 0.10621761658031088, 0.5781409601634321, 0.5806451612903226, 0.05555555555555555, 0.41228070175438597, 0.2848101265822785, 0.305993690851735, 0.8512820512820513, 0.38333333333333336, 0.07142857142857142, 0.41139240506329117, 0.9636363636363636, 0.7777777777777778, 0.6782570422535211, 0.35625, 0.8662971943193627, 0.3904639175257732, 0.39026473099914605, 0.812933025404157, 0.9707792207792207, 0.27906976744186046, 0.7433035714285714, 0.05309734513274336, 0.0, 0.004878048780487805, 0.3118279569892473, 0.48, 0.12690355329949238, 0.0199203187250996, 0.12101910828025478, 0.105, 0.0, 0.5591397849462365, 0.5, 0.5, 0.0, 0.13636363636363635, 0.0, 0.024475524475524476, 0.0784313725490196, 0.10179640718562874, 0.5428571428571428, 0.1702127659574468, 0.022988505747126436, 0.0, 0.03225806451612903, 0.029239766081871343, 0.22981366459627328, 0.5833333333333334, 0.024390243902439025, 0.3275862068965517, 0.18032786885245902, 0.9456521739130435, 0.06493506493506493, 0.023809523809523808, 0.06868686868686869, 0.07317073170731707, 0.48333333333333334, 0.14285714285714285, 0.0, 0.02912621359223301, 0.07627118644067797, 0.044444444444444446, 0.1016949152542373, 0.06741573033707865, 0.09844559585492228, 0.1007905138339921, 0.6785714285714286, 0.11057692307692307, 0.03314917127071823, 0.047058823529411764, 0.20075757575757575, 0.07428571428571429, 0.11278195488721804, 0.14508928571428573, 0.052083333333333336, 0.022988505747126436, 0.6808785529715762, 0.06276150627615062, 0.008403361344537815, 0.1348314606741573, 0.0, 0.23706896551724138, 0.039473684210526314, 0.03488372093023256, 0.1564245810055866, 0.055299539170506916, 0.058823529411764705, 0.033112582781456956, 0.22707423580786026, 0.4029309563378154, 0.5313424804950229, 0.727979274611399, 0.49635479951397327, 0.6109589041095891, 0.686027397260274, 0.6749306518723994, 0.4476987447698745, 0.3293478260869565, 0.42923898531375165, 0.3286082474226804, 0.39014647137150466, 0.1327762302692665, 0.48564593301435405, 0.7839080459770115, 0.19759679572763686, 0.10657596371882086, 0.05128205128205128, 0.0893854748603352, 0.6684175968483257, 0.19471947194719472, 0.7107061503416856, 0.025936599423631124, 0.34408602150537637, 0.3274336283185841, 0.7918043621943159, 0.09398496240601503, 0.3624161073825503, 0.987026466009341, 0.8100686498855835, 0.8614008941877794, 0.18553645524599882, 0.34432717678100266, 0.4594594594594595, 0.4262295081967213, 0.3076923076923077, 1.0, 0.1646090534979424, 0.7904761904761904, 0.3333333333333333, 0.46551724137931033, 0.9734513274336283, 0.5555555555555556, 0.3643410852713178, 0.3698630136986301, 0.4444444444444444, 0.05555555555555555, 0.24, 0.45454545454545453, 0.2, 0.7961432506887053, 0.6238361266294227, 0.3590504451038576, 0.3916083916083916, 0.5, 0.969558599695586, 0.0, 0.03424657534246575, 0.024390243902439025, 0.025510204081632654, 0.20164609053497942, 0.3446969696969697, 0.2, 0.011494252873563218, 0.01238390092879257, 0.16299559471365638, 0.7727272727272727, 0.005434782608695652, 0.03225806451612903, 0.17204301075268819, 0.044534412955465584, 0.0, 0.015748031496062992, 0.01, 0.05555555555555555, 0.047619047619047616, 0.21212121212121213, 0.09302325581395349, 0.31970260223048325, 0.022988505747126436, 0.603448275862069, 0.13658536585365855, 0.09313725490196079, 0.8041237113402062, 0.6261682242990654, 0.1875, 0.8607888631090487, 0.5384615384615384, 0.0847378277153558, 0.3905172413793103, 0.33808392715756136, 0.0656084656084656, 0.028391167192429023, 0.02064896755162242, 0.2825112107623318, 0.04066543438077634, 0.2745664739884393, 0.432, 0.05588822355289421, 0.17132867132867133, 0.013513513513513514, 0.027377521613832854, 0.6407766990291263, 0.5677083333333334, 0.9366262814538676, 0.9653716216216216, 0.41743119266055045, 0.044101433296582136, 0.3282828282828283, 0.8040254237288136, 0.8943089430894309, 0.0436046511627907, 0.1875, 0.6695652173913044, 0.7680311890838206, 0.5568181818181818, 0.2303206997084548, 0.33636363636363636, 0.5234375, 0.5359342915811088, 0.5355805243445693, 0.5117493472584856, 0.8002270147559591, 0.7522935779816514, 0.10638297872340426, 0.541095890410959, 0.18181818181818182, 0.4520547945205479, 0.4126984126984127, 0.20136518771331058, 0.13962264150943396, 0.06481481481481481, 0.27147766323024053, 0.5433526011560693, 0.7977941176470589, 0.8542846357115893, 0.65, 0.8926174496644296, 0.9928507596067918])"
      ]
     },
     "execution_count": 130,
     "metadata": {},
     "output_type": "execute_result"
    }
   ],
   "source": [
    "scVI_fine_acc"
   ]
  },
  {
   "cell_type": "code",
   "execution_count": 131,
   "metadata": {},
   "outputs": [
    {
     "data": {
      "text/plain": [
       "Accuracy(unweighted=0.3585041670355241, weighted=0.23635460313712794, worst=0.0, accuracy_classes=[0.48523206751054854, 0.18077803203661327, 0.6701791359325606, 0.594048884165781, 0.2738681102362205, 0.1138590760615959, 0.28137769994162287, 0.4334733893557423, 0.7646740600486881, 0.11862396204033215, 0.0, 0.03296703296703297, 0.0872540633019675, 0.018115942028985508, 0.9707865168539326, 0.941586748038361, 0.2228637413394919, 0.2629757785467128, 0.32673267326732675, 0.13031161473087818, 0.47700170357751276, 0.275974025974026, 0.25392670157068065, 0.009724473257698542, 0.06278026905829596, 0.06904761904761905, 0.019444444444444445, 0.06397306397306397, 0.011869436201780416, 0.019736842105263157, 0.0, 0.09615384615384616, 0.020942408376963352, 0.0, 0.1337527352297593, 0.2343032159264931, 0.12008501594048884, 0.6206896551724138, 0.8636363636363636, 0.018691588785046728, 0.4339622641509434, 0.4444444444444444, 0.631336405529954, 0.6203966005665722, 0.42105263157894735, 0.16666666666666666, 0.4, 0.75, 0.14499252615844543, 0.571767497034401, 0.4003831417624521, 0.6571045576407507, 0.3057591623036649, 0.37534246575342467, 0.9327548806941431, 0.9028662420382165, 0.5783132530120482, 0.68, 0.07317073170731707, 0.0, 0.016483516483516484, 0.6811594202898551, 0.04265402843601896, 0.10778443113772455, 0.023622047244094488, 0.15625, 0.051515151515151514, 0.0, 0.0851063829787234, 0.12105263157894737, 0.2, 0.008403361344537815, 0.09302325581395349, 0.0, 0.03125, 0.03819444444444445, 0.08585858585858586, 0.5528455284552846, 0.29508196721311475, 0.0, 0.022727272727272728, 0.0, 0.12, 0.16793893129770993, 0.38, 0.1, 0.375, 0.24742268041237114, 0.5105263157894737, 0.04285714285714286, 0.0, 0.00684931506849315, 0.0, 0.1282051282051282, 0.06338028169014084, 0.0, 0.021739130434782608, 0.02564102564102564, 0.017857142857142856, 0.045454545454545456, 0.06040268456375839, 0.06153846153846154, 0.08522727272727272, 0.08235294117647059, 0.05976095617529881, 0.005555555555555556, 0.0288659793814433, 0.041176470588235294, 0.07973421926910298, 0.05904059040590406, 0.06935123042505593, 0.05829596412556054, 0.025936599423631124, 0.4701492537313433, 0.011363636363636364, 0.028037383177570093, 0.025, 0.014778325123152709, 0.1390728476821192, 0.06451612903225806, 0.0, 0.04513888888888889, 0.01634877384196185, 0.025889967637540454, 0.02, 0.06936416184971098, 0.2733069268669694, 0.2958910227780259, 0.6933890577507599, 0.43843283582089554, 0.5387096774193548, 0.48640724946695096, 0.4513118506779363, 0.4, 0.29074446680080485, 0.42105263157894735, 0.327455919395466, 0.461839530332681, 0.07107843137254902, 0.09750566893424037, 0.750728862973761, 0.24358974358974358, 0.26283367556468173, 0.14666666666666667, 0.04899777282850779, 0.5397830018083183, 0.24262295081967214, 0.2, 0.010582010582010581, 0.0, 0.09782608695652174, 0.8375685102142502, 0.21902017291066284, 0.4729064039408867, 0.9718172983479106, 0.7916666666666666, 0.9262642740619902, 0.1521181001283697, 0.3958762886597938, 0.40625, 0.4909090909090909, 0.058823529411764705, 0.695852534562212, 0.152317880794702, 0.4072164948453608, 0.22916666666666666, 0.18018018018018017, 0.31690140845070425, 0.21739130434782608, 0.5875, 0.2676056338028169, 0.23636363636363636, 0.08695652173913043, 0.25, 0.2, 0.2, 0.7214161346488682, 0.5276752767527675, 0.2775061124694376, 0.1774193548387097, 0.08374384236453201, 0.9872611464968153, 0.0, 0.04081632653061224, 0.022935779816513763, 0.06086956521739131, 0.17408906882591094, 0.15447154471544716, 0.04, 0.06493506493506493, 0.027777777777777776, 0.08695652173913043, 0.7954545454545454, 0.011049723756906077, 0.013888888888888888, 0.14705882352941177, 0.0, 0.038461538461538464, 0.024509803921568627, 0.06896551724137931, 0.15757575757575756, 0.03553299492385787, 0.5, 0.13829787234042554, 0.056910569105691054, 0.01948051948051948, 0.20512820512820512, 0.14545454545454545, 0.055299539170506916, 0.5588235294117647, 0.5161290322580645, 0.6153846153846154, 0.8233333333333334, 0.07936507936507936, 0.10387323943661972, 0.1844713656387665, 0.1430635838150289, 0.02531645569620253, 0.028334485141672427, 0.01282051282051282, 0.025510204081632654, 0.01559792027729636, 0.15384615384615385, 0.09913793103448276, 0.00516795865633075, 0.01598721023181455, 0.013020833333333334, 0.02046783625730994, 0.12554744525547445, 0.05096262740656852, 0.12458286985539488, 0.29433497536945813, 0.15625, 0.012084592145015106, 0.03731343283582089, 0.24804585721730069, 0.2964705882352941, 0.017142857142857144, 0.046511627906976744, 0.45263157894736844, 0.4354587869362364, 0.15406562054208273, 0.06451612903225806, 0.11688311688311688, 0.30728241563055064, 0.24545454545454545, 0.1409090909090909, 0.1276595744680851, 0.35076252723311546, 0.6170212765957447, 0.03070175438596491, 0.16393442622950818, 0.05263157894736842, 0.25704225352112675, 0.10326086956521739, 0.07894736842105263, 0.12371134020618557, 0.07894736842105263, 0.12211221122112212, 0.5273972602739726, 0.38273708120386146, 0.7657540199913081, 0.6106639839034205, 0.8858267716535433, 0.9018503620273531])"
      ]
     },
     "execution_count": 131,
     "metadata": {},
     "output_type": "execute_result"
    }
   ],
   "source": [
    "seurat_fine_acc"
   ]
  },
  {
   "cell_type": "code",
   "execution_count": 192,
   "metadata": {},
   "outputs": [
    {
     "name": "stdout",
     "output_type": "stream",
     "text": [
      "0.359 & 0.512 &0.336 &0.574 & 0.575 & 0.570 \\\\\n"
     ]
    }
   ],
   "source": [
    "print(\"%.3f & %.3f &%.3f &%.3f & %.3f & %.3f \\\\\\\\\"%(seurat_fine_acc[0], scVI_fine_acc[0],scanvi_fine_acc[0],fine_acc[0],scanvi_hier_acc[0],hier_acc[0]))"
   ]
  },
  {
   "cell_type": "code",
   "execution_count": 191,
   "metadata": {},
   "outputs": [
    {
     "name": "stdout",
     "output_type": "stream",
     "text": [
      "0.236 & 0.341 &0.235 &0.384 & 0.371 & 0.391 \\\\\n"
     ]
    }
   ],
   "source": [
    "print(\"%.3f & %.3f &%.3f &%.3f & %.3f & %.3f \\\\\\\\\"%(seurat_fine_acc[1], scVI_fine_acc[1],scanvi_fine_acc[1],fine_acc[1],scanvi_hier_acc[1],hier_acc[1]))"
   ]
  },
  {
   "cell_type": "markdown",
   "metadata": {},
   "source": [
    "# Fine to Coarse"
   ]
  },
  {
   "cell_type": "code",
   "execution_count": 157,
   "metadata": {},
   "outputs": [
    {
     "data": {
      "text/plain": [
       "160796"
      ]
     },
     "execution_count": 157,
     "metadata": {},
     "output_type": "execute_result"
    }
   ],
   "source": [
    "len(SCANVI_hier_pred)"
   ]
  },
  {
   "cell_type": "code",
   "execution_count": 158,
   "metadata": {},
   "outputs": [
    {
     "data": {
      "text/plain": [
       "158146"
      ]
     },
     "execution_count": 158,
     "metadata": {},
     "output_type": "execute_result"
    }
   ],
   "source": [
    "len(fine_pred)"
   ]
  },
  {
   "cell_type": "code",
   "execution_count": 155,
   "metadata": {},
   "outputs": [],
   "source": [
    "seurat_fine_pred_coarse = gene_dataset_fine.labels_groups[seurat_fine_pred]\n",
    "scVI_fine_pred_coarse = gene_dataset_fine.labels_groups[scVI_fine_pred]\n",
    "SCANVI_fine_pred_coarse = gene_dataset_fine.labels_groups[SCANVI_fine_pred]\n",
    "SCANVI_hier_pred_coarse = gene_dataset_fine.labels_groups[SCANVI_hier_pred]\n",
    "fine_pred_coarse = gene_dataset_fine.labels_groups[fine_pred]\n",
    "hier_pred_coarse = gene_dataset_fine.labels_groups[hier_pred]"
   ]
  },
  {
   "cell_type": "code",
   "execution_count": 160,
   "metadata": {},
   "outputs": [],
   "source": [
    "seurat_fine_coarse_acc = compute_accuracy_tuple(seurat_fine_pred_coarse,gene_dataset.labels.ravel()[unlabelled_idx])\n",
    "scVI_fine_coarse_acc = compute_accuracy_tuple(scVI_fine_pred_coarse,gene_dataset.labels.ravel()[unlabelled_idx])\n",
    "scanvi_fine_coarse_acc = compute_accuracy_tuple(gene_dataset.labels.ravel()[unlabelled_idx],SCANVI_fine_pred_coarse[unlabelled_idx])\n",
    "scanvi_hier_coarse_acc = compute_accuracy_tuple(gene_dataset.labels.ravel()[unlabelled_idx],SCANVI_hier_pred_coarse[unlabelled_idx])\n",
    "fine_coarse_acc = compute_accuracy_tuple(gene_dataset.labels.ravel()[unlabelled_idx],fine_pred_coarse)\n",
    "hier_coarse_acc = compute_accuracy_tuple(gene_dataset.labels.ravel()[unlabelled_idx],hier_pred_coarse)\n"
   ]
  },
  {
   "cell_type": "code",
   "execution_count": 133,
   "metadata": {},
   "outputs": [
    {
     "data": {
      "text/plain": [
       "Accuracy(unweighted=0.8413491330795595, weighted=0.6965055742234534, worst=0.06961325966850829, accuracy_classes=[0.9840819542947202, 0.6042765502494655, 0.4140999315537303, 0.9707865168539326, 0.49830810329474623, 0.2775061124694376, 0.5370319759497131, 0.45361166335321407, 0.999424791486914, 0.9759384023099134, 0.9776055124892334, 0.06961325966850829, 0.25517627308338, 0.9985174203113417, 0.9083333333333333, 0.9718172983479106, 0.7364690721649485, 0.7916666666666666, 0.9995025205624835, 0.2819243013795543, 0.9671209171533636, 0.6776859504132231, 0.7891077636152954, 0.6583710407239819, 0.9994984954864594, 0.9821958456973294, 0.7954545454545454, 0.27653880463871544, 0.22474226804123712, 0.5105263157894737, 0.1774193548387097, 0.1724137931034483, 0.9586330935251799, 0.8531567080045096, 0.9541669356400491, 0.7874497465478063, 0.9582491582491582, 0.8983259478089611, 0.8169690501600854])"
      ]
     },
     "execution_count": 133,
     "metadata": {},
     "output_type": "execute_result"
    }
   ],
   "source": [
    "seurat_fine_coarse_acc"
   ]
  },
  {
   "cell_type": "code",
   "execution_count": 134,
   "metadata": {},
   "outputs": [
    {
     "data": {
      "text/plain": [
       "Accuracy(unweighted=0.8588266538515044, weighted=0.7564250074185819, worst=0.1363962670495334, accuracy_classes=[0.9718178521473346, 0.7907433881343817, 0.4929078014184397, 0.997624703087886, 0.7968925917586129, 0.3590504451038576, 0.4744255859600508, 0.5113604488078541, 0.9914778229711408, 0.8104838709677419, 0.948220064724919, 0.2999088422971741, 0.3617846750727449, 0.9905938767982294, 0.8911723493694536, 0.987026466009341, 0.7887740029542097, 0.8100686498855835, 0.9826102108381252, 0.5269419174247726, 0.85680285600952, 0.717741935483871, 0.980440097799511, 0.9136842105263158, 0.9894419306184012, 0.9496402877697842, 0.7727272727272727, 0.3069207622868606, 0.1363962670495334, 0.9456521739130435, 0.3916083916083916, 0.35172413793103446, 0.9523809523809523, 0.9065138721351025, 0.9573101849099233, 0.9580882352941177, 0.9809187279151943, 0.8955266955266955, 0.7531707317073171])"
      ]
     },
     "execution_count": 134,
     "metadata": {},
     "output_type": "execute_result"
    }
   ],
   "source": [
    "scVI_fine_coarse_acc"
   ]
  },
  {
   "cell_type": "code",
   "execution_count": 135,
   "metadata": {},
   "outputs": [
    {
     "data": {
      "text/plain": [
       "Accuracy(unweighted=0.8576442021929104, weighted=0.6672746870426877, worst=0.0, accuracy_classes=[0.9932148961516548, 0.8224388379204893, 0.7365532381997805, 0.0, 0.8525758969641214, 0.0, 0.37129109863672816, 0.3595447490946715, 0.9944524151123865, 0.9763546798029556, 0.9185004074979625, 0.304635761589404, 0.8134403209628887, 0.997775718257646, 0.7997905759162304, 0.9940623453735774, 0.7720054891197804, 0.0, 0.9610040786550387, 0.5275761973875182, 0.8998652031580975, 0.8020833333333334, 0.9879372738238842, 0.8783505154639175, 0.9990044798407167, 0.9909638554216867, 0.0, 0.5009469696969697, 0.10365853658536585, 0.9801980198019802, 0.0, 0.0, 0.9731903485254692, 0.8114258622733199, 0.9502667169567326, 0.9355354288758657, 0.9034670292318151, 0.9326287978863936, 0.17897371714643304])"
      ]
     },
     "execution_count": 135,
     "metadata": {},
     "output_type": "execute_result"
    }
   ],
   "source": [
    "scanvi_fine_coarse_acc"
   ]
  },
  {
   "cell_type": "code",
   "execution_count": 136,
   "metadata": {},
   "outputs": [
    {
     "data": {
      "text/plain": [
       "Accuracy(unweighted=0.8309030895501626, weighted=0.7625398213735584, worst=0.0, accuracy_classes=[0.9771067488475682, 0.7480886850152905, 0.8726673984632273, 0.9620535714285714, 0.7164213431462741, 0.7917981072555205, 0.0, 0.0, 0.9887135341941655, 0.9970443349753695, 0.9837000814995925, 0.6274834437086093, 0.872617853560682, 0.9855421686746988, 0.8856544502617801, 0.9693221177634834, 0.7396588904136444, 0.7814814814814814, 0.9873329575223, 0.5504354136429608, 0.6851530906990179, 0.96875, 0.9601930036188179, 0.9628865979381444, 0.9975111996017919, 0.9789156626506024, 1.0, 0.6998106060606061, 0.3307926829268293, 0.9405940594059405, 0.0, 0.0, 0.9959785522788204, 0.9138319307810833, 0.9442319090468236, 0.9534718522464927, 0.982324949014276, 0.0, 0.9874843554443054])"
      ]
     },
     "execution_count": 136,
     "metadata": {},
     "output_type": "execute_result"
    }
   ],
   "source": [
    "scanvi_hier_coarse_acc"
   ]
  },
  {
   "cell_type": "code",
   "execution_count": 161,
   "metadata": {},
   "outputs": [
    {
     "data": {
      "text/plain": [
       "Accuracy(unweighted=0.8937437557699847, weighted=0.8247553322470546, worst=0.19436997319034852, accuracy_classes=[0.9858082560729269, 0.9180045871559633, 0.7618002195389681, 0.9375, 0.8776448942042319, 0.7539432176656151, 0.6485966319165999, 0.4943093636833937, 0.9936872309899569, 0.9960591133004926, 0.9837000814995925, 0.5579470198675497, 0.7863590772316951, 0.9985171455050973, 0.8052356020942408, 0.9856506679861454, 0.8067045677318173, 0.4728395061728395, 0.9978114533939052, 0.5065312046444121, 0.886578085884845, 0.9270833333333334, 0.9746682750301568, 0.9051546391752577, 0.9955201592832255, 0.9969879518072289, 0.972972972972973, 0.6089015151515151, 0.42073170731707316, 0.8910891089108911, 0.19436997319034852, 0.7142857142857143, 0.9235924932975871, 0.7384141282446367, 0.9053289509133036, 0.94832179009057, 0.9796057104010877, 0.9344782034346103, 0.9787234042553191])"
      ]
     },
     "execution_count": 161,
     "metadata": {},
     "output_type": "execute_result"
    }
   ],
   "source": [
    "fine_coarse_acc"
   ]
  },
  {
   "cell_type": "code",
   "execution_count": 162,
   "metadata": {},
   "outputs": [
    {
     "data": {
      "text/plain": [
       "Accuracy(unweighted=0.8893364359515891, weighted=0.8279777302317581, worst=0.1742627345844504, accuracy_classes=[0.9845651836121614, 0.9034785932721713, 0.7738748627881449, 0.9642857142857143, 0.8376264949402024, 0.8517350157728707, 0.6011226944667202, 0.4412829798241076, 0.9888091822094691, 0.994088669950739, 0.9837000814995925, 0.5860927152317881, 0.7873620862587764, 0.9972196478220574, 0.8322513089005236, 0.9792182088075211, 0.8304254067829837, 0.6320987654320988, 0.9970156182644162, 0.525399129172714, 0.8411322934719815, 0.9270833333333334, 0.9553679131483716, 0.9175257731958762, 0.9965156794425087, 0.9879518072289156, 0.972972972972973, 0.6770833333333334, 0.37652439024390244, 0.900990099009901, 0.1742627345844504, 0.7571428571428571, 0.920911528150134, 0.738177077160128, 0.9202004418341505, 0.9527614988456757, 0.9721278042148198, 0.8282694848084544, 0.9824780976220275])"
      ]
     },
     "execution_count": 162,
     "metadata": {},
     "output_type": "execute_result"
    }
   ],
   "source": [
    "hier_coarse_acc"
   ]
  },
  {
   "cell_type": "code",
   "execution_count": 199,
   "metadata": {},
   "outputs": [
    {
     "name": "stdout",
     "output_type": "stream",
     "text": [
      "0.841 & 0.859 &0.858 &0.894 & 0.831 & 0.889 \\\\\n"
     ]
    }
   ],
   "source": [
    "print(\"%.3f & %.3f &%.3f &%.3f & %.3f & %.3f \\\\\\\\\"%(seurat_fine_coarse_acc[0], scVI_fine_coarse_acc[0],scanvi_fine_coarse_acc[0],fine_coarse_acc[0],scanvi_hier_coarse_acc[0],hier_coarse_acc[0]))\n"
   ]
  },
  {
   "cell_type": "code",
   "execution_count": 200,
   "metadata": {},
   "outputs": [
    {
     "name": "stdout",
     "output_type": "stream",
     "text": [
      "0.697 & 0.756 &0.667 &0.825 & 0.763 & 0.828 \\\\\n"
     ]
    }
   ],
   "source": [
    "print(\"%.3f & %.3f &%.3f &%.3f & %.3f & %.3f \\\\\\\\\"%(seurat_fine_coarse_acc[1], scVI_fine_coarse_acc[1],scanvi_fine_coarse_acc[1],fine_coarse_acc[1],scanvi_hier_coarse_acc[1],hier_coarse_acc[1]))\n"
   ]
  },
  {
   "cell_type": "code",
   "execution_count": 169,
   "metadata": {},
   "outputs": [
    {
     "data": {
      "image/png": "[encoded data removed]",
      "text/plain": [
       "<Figure size 648x288 with 3 Axes>"
      ]
     },
     "metadata": {},
     "output_type": "display_data"
    }
   ],
   "source": [
    "plt.figure(figsize=(9, 4))\n",
    "plt.subplot(131)\n",
    "plt.bar([1, 2, 3], height=[seurat_coarse_acc[0],scVI_coarse_acc[0],scanvi_coarse_acc[0]])\n",
    "plt.xticks([0,1, 2], [\"Seurat + Coarse KNN\",\"scVI + coarse KNN\",\"SCAN-VI Coarse\"],rotation=45)\n",
    "plt.ylabel(\"Coarse Accuracy\")\n",
    "plt.subplot(132)\n",
    "plt.bar([1,2,3,4,5,6], height=[seurat_fine_acc[0],scVI_fine_acc[0],scanvi_fine_acc[0],fine_acc[0],scanvi_hier_acc[0],hier_acc[0]])\n",
    "plt.xticks([0,1,2,3,4,5], ['Seurat+KNN','scVI+KNN',\"SCAN-VI\",\"SCAN-VI + KNN\" ,\"SCAN-VI Hierarchical\",\"SCAN-VI Hierarchical+KNN\"],rotation=45)\n",
    "plt.ylabel(\"Fine Accuracy\")\n",
    "plt.tight_layout()\n",
    "plt.subplot(133)\n",
    "plt.bar([1,2,3,4,5,6], height=[seurat_fine_coarse_acc[0],scVI_fine_coarse_acc[0],scanvi_fine_coarse_acc[0],fine_coarse_acc[0],scanvi_hier_coarse_acc[0],hier_coarse_acc[0]])\n",
    "plt.xticks([0,1,2,3,4,5], ['Seurat+KNN','scVI+KNN',\"SCAN-VI\",\"SCAN-VI + KNN\" ,\"SCAN-VI Hierarchical\",\"SCAN-VI Hierarchical+KNN\"],rotation=45)\n",
    "plt.ylabel(\"Fine to Coarse Accuracy\")\n",
    "plt.tight_layout()\n",
    "plt.savefig(\"figures/hierarch_accuracy.pdf\", transparency=True)"
   ]
  },
  {
   "cell_type": "code",
   "execution_count": 150,
   "metadata": {},
   "outputs": [],
   "source": [
    "import matplotlib \n",
    "%matplotlib inline  "
   ]
  },
  {
   "cell_type": "code",
   "execution_count": 170,
   "metadata": {},
   "outputs": [
    {
     "data": {
      "image/png": "[encoded data removed]",
      "text/plain": [
       "<Figure size 648x288 with 3 Axes>"
      ]
     },
     "metadata": {},
     "output_type": "display_data"
    }
   ],
   "source": [
    "plt.figure(figsize=(9, 4))\n",
    "plt.subplot(131)\n",
    "plt.bar([1, 2, 3], height=[seurat_coarse_acc[1],scVI_coarse_acc[1],scanvi_coarse_acc[1]])\n",
    "plt.xticks([0,1, 2], [\"Seurat + Coarse KNN\",\"scVI + coarse KNN\",\"SCAN-VI Coarse\"],rotation=45)\n",
    "plt.ylabel(\"Coarse Accuracy\")\n",
    "plt.subplot(132)\n",
    "plt.bar([1,2,3,4,5,6], height=[seurat_fine_acc[1],scVI_fine_acc[1],scanvi_fine_acc[1],fine_acc[1],scanvi_hier_acc[1],hier_acc[1]])\n",
    "plt.xticks([0,1,2,3,4,5], ['Seurat+KNN','scVI+KNN',\"SCAN-VI\",\"SCAN-VI + KNN\" ,\"SCAN-VI Hierarchical\",\"SCAN-VI Hierarchical+KNN\"],rotation=45)\n",
    "plt.ylabel(\"Fine Accuracy\")\n",
    "plt.tight_layout()\n",
    "plt.subplot(133)\n",
    "plt.bar([1,2,3,4,5,6], height=[seurat_fine_coarse_acc[1],scVI_fine_coarse_acc[1],scanvi_fine_coarse_acc[1],fine_coarse_acc[1],scanvi_hier_coarse_acc[1],hier_coarse_acc[1]])\n",
    "plt.xticks([0,1,2,3,4,5], ['Seurat+KNN','scVI+KNN',\"SCAN-VI\",\"SCAN-VI + KNN\" ,\"SCAN-VI Hierarchical\",\"SCAN-VI Hierarchical+KNN\"],rotation=45)\n",
    "plt.ylabel(\"Fine to Coarse Accuracy\")\n",
    "plt.tight_layout()\n",
    "plt.savefig(\"figures/hierarch_accuracy.weighted.pdf\", transparency=True)"
   ]
  },
  {
   "cell_type": "code",
   "execution_count": null,
   "metadata": {},
   "outputs": [],
   "source": []
  }
 ],
 "metadata": {
  "kernelspec": {
   "display_name": "Python [conda env:pytorch_p36]",
   "language": "python",
   "name": "conda-env-pytorch_p36-py"
  },
  "language_info": {
   "codemirror_mode": {
    "name": "ipython",
    "version": 3
   },
   "file_extension": ".py",
   "mimetype": "text/x-python",
   "name": "python",
   "nbconvert_exporter": "python",
   "pygments_lexer": "ipython3",
   "version": "3.6.7"
  }
 },
 "nbformat": 4,
 "nbformat_minor": 2
}
