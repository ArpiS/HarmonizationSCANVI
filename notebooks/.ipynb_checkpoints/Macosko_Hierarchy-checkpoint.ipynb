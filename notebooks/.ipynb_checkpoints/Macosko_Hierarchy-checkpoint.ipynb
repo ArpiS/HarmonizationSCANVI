{
 "cells": [
  {
   "cell_type": "code",
   "execution_count": 1,
   "metadata": {},
   "outputs": [],
   "source": [
    "import os\n",
    "os.chdir(\"/home/ec2-user/scVI/\")\n",
    "os.getcwd()\n",
    "\n",
    "import matplotlib\n",
    "matplotlib.rcParams['pdf.fonttype'] = 42\n",
    "matplotlib.rcParams['ps.fonttype'] = 42\n",
    "import matplotlib.pyplot as plt\n",
    "import seaborn as sns\n",
    "%matplotlib inline\n",
    "\n",
    "from umap import UMAP\n",
    "\n",
    "use_cuda = True\n",
    "from scvi.dataset.BICCN import *\n",
    "from scvi.dataset.dataset import GeneExpressionDataset\n",
    "from scvi.harmonization.utils_chenling import CompareModels\n",
    "from scvi.inference import UnsupervisedTrainer, SemiSupervisedTrainer\n",
    "from scvi.models import SCANVI\n",
    "from scvi.harmonization.utils_chenling import trainVAE,SubsetGenes,run_model\n",
    "import torch\n",
    "from scvi.metrics.clustering import select_indices_evenly, clustering_scores,clustering_accuracy\n",
    "from scvi.inference.annotation import compute_accuracy_tuple, compute_accuracy_nn"
   ]
  },
  {
   "cell_type": "code",
   "execution_count": null,
   "metadata": {},
   "outputs": [
    {
     "name": "stdout",
     "output_type": "stream",
     "text": [
      "(2351, 27998) 2351\n",
      "(2220, 27998) 2220\n",
      "Keeping 27998 genes\n",
      "(2222, 27998) 2222\n",
      "Keeping 27998 genes\n",
      "(2424, 27998) 2424\n",
      "Keeping 27998 genes\n",
      "(2114, 27998) 2114\n",
      "Keeping 27998 genes\n"
     ]
    }
   ],
   "source": [
    "plotname = 'Macosko_Regev_fine'\n",
    "dataset1 = MacoskoDataset(coarse=False)\n",
    "dataset2 = RegevDataset(coarse=False)\n",
    "\n",
    "dataset1.subsample_genes(dataset1.nb_genes)\n",
    "dataset2.subsample_genes(dataset2.nb_genes)\n",
    "from scvi.harmonization.utils_chenling import SubsetGenes\n",
    "gene_dataset = GeneExpressionDataset.concat_datasets(dataset1, dataset2)\n",
    "dataset1, dataset2, gene_dataset = SubsetGenes(dataset1, dataset2, gene_dataset, 'Macosko_Regev')\n"
   ]
  },
  {
   "cell_type": "code",
   "execution_count": null,
   "metadata": {},
   "outputs": [],
   "source": []
  },
  {
   "cell_type": "code",
   "execution_count": 86,
   "metadata": {},
   "outputs": [],
   "source": [
    "groups_names = ['Pvalb', 'L2/3', 'Sst', 'L5 PT', 'L5 IT Tcap', 'L5 IT Aldh1a7', 'L5 NP',\n",
    "                      'L6 IT', 'L6 CT', 'L6b', 'Lamp5', 'Vip', 'Astro', 'OPC', 'VLMC', 'Oligo', 'Sncg', 'Endo']\n",
    "groups_names = np.asarray([x.upper() for x in groups_names])\n",
    "cell_type_bygroup = [[x for x in gene_dataset.cell_types if x.startswith(y)] for y in groups_names]"
   ]
  },
  {
   "cell_type": "code",
   "execution_count": 87,
   "metadata": {},
   "outputs": [],
   "source": [
    "labels_groups = []\n",
    "for i in range(gene_dataset.cell_types.shape[0]):\n",
    "    labels_groups.append(np.where([gene_dataset.cell_types[i] in cell_type_bygroup[j] for j in range(len(cell_type_bygroup))])[0][0])\n",
    "labels_groups = np.array(labels_groups)\n",
    "\n",
    "groups = np.array([labels_groups[x] for x in gene_dataset.labels.ravel()])\n",
    "gene_dataset.groups, gene_dataset.labels_groups = groups, labels_groups"
   ]
  },
  {
   "cell_type": "code",
   "execution_count": 88,
   "metadata": {},
   "outputs": [
    {
     "name": "stdout",
     "output_type": "stream",
     "text": [
      "['PVALB 1' 'PVALB ASTRO_1' 'PVALB EX_2' 'PVALB EX' 'PVALB ASTRO_2' 'PVALB'\n",
      " 'PVALB EX_1' 'PVALB 2' 'PVALB LOW']\n",
      "['L2/3 IT ASTRO' 'L2/3 IT SLA_INH' 'L2/3 IT SLA' 'L2/3 IT'\n",
      " 'L2/3 IT SLA_ASTRO' 'L2/3 IT MACC1']\n",
      "['SST CHODL' 'SST TAC2' 'SST' 'SST ETV1' 'SST MYH8']\n",
      "['L5 PT_2' 'L5 PT IT' 'L5 PT_1']\n",
      "['L5 IT TCAP_3' 'L5 IT TCAP_FOXP2' 'L5 IT TCAP_ASTRO' 'L5 IT TCAP_2'\n",
      " 'L5 IT TCAP_L2/3' 'L5 IT TCAP_1_3' 'L5 IT TCAP_1']\n",
      "['L5 IT ALDH1A7_1' 'L5 IT ALDH1A7' 'L5 IT ALDH1A7_2']\n",
      "['L5 NP' 'L5 NP SLC17A8']\n",
      "['L6 IT MAF' 'L6 IT NTN5 MGP' 'L6 IT NTN5 INPP4B' 'L6 IT CAR3']\n",
      "['L6 CT OLIG' 'L6 CT NXPH2' 'L6 CT' 'L6 CT GRP' 'L6 CT ASTRO']\n",
      "['L6B' 'L6B F2R']\n",
      "['LAMP5 EGLN3' 'LAMP5 SLC35D3' 'LAMP5 SNCG']\n",
      "['VIP RSPO4' 'VIP' 'VIP SERPINF1']\n",
      "['ASTRO EX' 'ASTRO AQP4']\n",
      "['OPC PDGFRA']\n",
      "['VLMC OSR1']\n",
      "['OLIGO ENPP6_2' 'OLIGO ENPP6_1' 'OLIGO OPALIN']\n",
      "['SNCG PTPRK']\n",
      "['ENDO SLC38A5' 'ENDO SLC38A5_PERI_1' 'ENDO SLC38A5_PERI_2']\n"
     ]
    }
   ],
   "source": [
    "for i in np.unique(gene_dataset.labels_groups):\n",
    "    print(gene_dataset.cell_types[gene_dataset.labels_groups==i])"
   ]
  },
  {
   "cell_type": "code",
   "execution_count": 80,
   "metadata": {},
   "outputs": [
    {
     "name": "stdout",
     "output_type": "stream",
     "text": [
      "Entropy batch mixing : 0.6586257989700317\n"
     ]
    }
   ],
   "source": [
    "from scvi.harmonization.utils_chenling import trainVAE, SCANVI,SemiSupervisedTrainer\n",
    "vae_posterior = trainVAE(gene_dataset,filename='Macosko_Regev',rep='0')"
   ]
  },
  {
   "cell_type": "markdown",
   "metadata": {},
   "source": [
    "# train with coarse labels"
   ]
  },
  {
   "cell_type": "code",
   "execution_count": 89,
   "metadata": {},
   "outputs": [],
   "source": [
    "import copy\n",
    "gene_dataset_coarse = copy.deepcopy(gene_dataset)\n",
    "gene_dataset_coarse.labels = gene_dataset.groups\n",
    "gene_dataset_coarse.cell_types = groups_names\n",
    "gene_dataset_coarse.n_labels = groups_names.shape[0]"
   ]
  },
  {
   "cell_type": "code",
   "execution_count": 141,
   "metadata": {},
   "outputs": [
    {
     "name": "stdout",
     "output_type": "stream",
     "text": [
      "training: 100%|██████████| 10/10 [02:19<00:00, 13.98s/it]\n"
     ]
    }
   ],
   "source": [
    "scanvi = SCANVI(gene_dataset_coarse.nb_genes, gene_dataset_coarse.n_batches, gene_dataset_coarse.n_labels, n_layers=2)\n",
    "scanvi.load_state_dict(vae_posterior.model.state_dict(), strict=False)\n",
    "trainer_scanvi = SemiSupervisedTrainer(scanvi, gene_dataset_coarse, classification_ratio=50,\n",
    "                                       n_epochs_classifier=1, lr_classification=5 * 1e-3, n_labelled_samples_per_class=50)\n",
    "trainer_scanvi.train(n_epochs=10)\n",
    "# torch.save(trainer_scanvi.model, '../Macosko_Regev/scanvi.hier.rep.pkl')\n",
    "# trainer_scanvi.model = torch.load('../Macosko_Regev/scanvi.hier.pkl')\n",
    "full_coarse = trainer_scanvi.create_posterior(trainer_scanvi.model, gene_dataset_coarse)"
   ]
  },
  {
   "cell_type": "code",
   "execution_count": 142,
   "metadata": {},
   "outputs": [],
   "source": [
    "y_pred = full_coarse.compute_predictions()[1]\n",
    "coarse_tuple_accuracy = compute_accuracy_tuple(gene_dataset.groups, y_pred)"
   ]
  },
  {
   "cell_type": "code",
   "execution_count": 143,
   "metadata": {},
   "outputs": [
    {
     "data": {
      "text/plain": [
       "Accuracy(unweighted=0.8793869731800765, weighted=0.9145550115686876, worst=0.7437376650979202, accuracy_classes=[0.7835076045627376, 0.9079513800962269, 0.9485887096774194, 0.9465920651068158, 0.7437376650979202, 0.9243786356425172, 0.9784431137724551, 0.9027624309392265, 0.9625067677314564, 0.9421338155515371, 0.8331862312444837, 0.8673621460506706, 0.9863294600136705, 0.9144736842105263, 0.9647058823529412, 0.958139534883721, 0.9112426035502958, 0.9859484777517564])"
      ]
     },
     "execution_count": 143,
     "metadata": {},
     "output_type": "execute_result"
    }
   ],
   "source": [
    "coarse_tuple_accuracy"
   ]
  },
  {
   "cell_type": "markdown",
   "metadata": {},
   "source": [
    "Accuracy(unweighted=0.8949885057471264, weighted=0.9279592039048288, worst=0.8011234249278882, accuracy_classes=[0.8148764258555133, 0.9051025576095214, 0.9627016129032258, 0.9628687690742624, 0.8011234249278882, 0.892296844702979, 0.9808383233532935, 0.9334254143646409, 0.9618299945858149, 0.9674502712477396, 0.8411297440423654, 0.9076005961251863, 0.974025974025974, 0.9539473684210527, 0.9764705882352941, 0.9348837209302325, 0.9467455621301775, 0.9859484777517564])"
   ]
  },
  {
   "cell_type": "markdown",
   "metadata": {},
   "source": [
    "# training with fine lables with no hierarchy"
   ]
  },
  {
   "cell_type": "code",
   "execution_count": 144,
   "metadata": {},
   "outputs": [
    {
     "name": "stdout",
     "output_type": "stream",
     "text": [
      "training: 100%|██████████| 10/10 [04:36<00:00, 27.60s/it]\n"
     ]
    }
   ],
   "source": [
    "scanvi = SCANVI(gene_dataset.nb_genes, gene_dataset.n_batches, gene_dataset.n_labels, n_layers=2)\n",
    "scanvi.load_state_dict(vae_posterior.model.state_dict(), strict=False)\n",
    "trainer_scanvi = SemiSupervisedTrainer(scanvi, gene_dataset, classification_ratio=50,\n",
    "                                       n_epochs_classifier=1, lr_classification=5 * 1e-3, n_labelled_samples_per_class=50)\n",
    "trainer_scanvi.train(n_epochs=10)\n",
    "full = trainer_scanvi.create_posterior(trainer_scanvi.model, gene_dataset)"
   ]
  },
  {
   "cell_type": "code",
   "execution_count": 145,
   "metadata": {},
   "outputs": [],
   "source": [
    "y_pred = full.compute_predictions()[1]\n",
    "tuple_accuracy = compute_accuracy_tuple(gene_dataset.labels, y_pred)\n",
    "\n",
    "y_pred_H = np.array([gene_dataset.labels_groups[x] for x in y_pred])\n",
    "tuple_accuracy_H = compute_accuracy_tuple(gene_dataset.groups, y_pred_H)"
   ]
  },
  {
   "cell_type": "code",
   "execution_count": 146,
   "metadata": {},
   "outputs": [
    {
     "data": {
      "text/plain": [
       "Accuracy(unweighted=0.5619463601532566, weighted=0.7061321694667272, worst=0.0, accuracy_classes=[0.2842465753424658, 1.0, 0.795071335927367, 0.90625, 0.8968253968253969, 0.8391608391608392, 0.9375750300120048, 0.7136929460580913, 0.5053598774885145, 0.863905325443787, 0.9633217993079585, 0.9764705882352941, 0.0, 1.0, 0.8594500218245308, 0.664179104477612, 0.45112781954887216, 0.9705882352941176, 0.8163771712158809, 0.9016634050880626, 0.6309523809523809, 0.6335149863760218, 0.8935483870967742, 0.7913669064748201, 0.8609865470852018, 0.15403422982885084, 0.8777103209019947, 1.0, 0.6708074534161491, 0.5406162464985994, 0.0, 0.0, 0.7724550898203593, 0.22564102564102564, 0.2587601078167116, 0.9693251533742331, 0.6776859504132231, 0.34433285509325684, 0.9420289855072463, 0.7727272727272727, 0.9591836734693877, 0.9288194444444444, 0.0, 0.6771653543307087, 0.4540960451977401, 0.9742074153680816, 0.6936897458369851, 0.8519736842105263, 0.7993874425727412, 0.5784695201037614, 0.3616504854368932, 0.8551401869158879, 0.9716312056737588, 0.6037099494097807, 0.7473684210526316, 0.4230769230769231, 0.9835680751173709, 0.9137931034482759, 0.6864864864864865, 0.9535283993115319, 0.8980891719745223, 0.8479941111520058, 0.9615384615384616])"
      ]
     },
     "execution_count": 146,
     "metadata": {},
     "output_type": "execute_result"
    }
   ],
   "source": [
    "tuple_accuracy"
   ]
  },
  {
   "cell_type": "markdown",
   "metadata": {},
   "source": [
    "Accuracy(unweighted=0.6688429118773946, weighted=0.6429625474118289, worst=0.0, accuracy_classes=[0.5308219178082192, 0.0, 0.9351491569390402, 0.984375, 0.8412698412698413, 0.8601398601398601, 0.9267707082833133, 0.8298755186721992, 0.7197549770290965, 0.0, 0.9730103806228374, 0.9764705882352941, 0.7931034482758621, 1.0, 0.8367525098210389, 0.6940298507462687, 0.0, 0.0, 0.8833746898263027, 0.0, 0.7232142857142857, 0.0, 0.8419354838709677, 0.6906474820143885, 0.9865470852017937, 0.37163814180929094, 0.8660017346053773, 0.0, 0.7020312237703542, 0.6862745098039216, 0.2562814070351759, 0.9463279285528483, 0.9940119760479041, 0.0, 0.0, 0.9938650306748467, 0.0, 0.5538020086083214, 0.927536231884058, 0.9935064935064936, 1.0, 0.9826388888888888, 0.0, 0.8267716535433071, 0.0, 0.938742611499194, 0.7940403155127082, 0.9210526315789473, 0.7993874425727412, 0.7574578469520103, 0.0, 0.8637071651090342, 0.9929078014184397, 0.8600337268128162, 0.9368421052631579, 0.0, 0.9788732394366197, 0.9181034482758621, 0.8432432432432433, 0.9690189328743546, 0.0, 0.8437615016562385, 0.9615384615384616])"
   ]
  },
  {
   "cell_type": "code",
   "execution_count": 147,
   "metadata": {},
   "outputs": [
    {
     "data": {
      "text/plain": [
       "Accuracy(unweighted=0.9199846743295019, weighted=0.9278616240076464, worst=0.8519736842105263, accuracy_classes=[0.8883079847908745, 0.9293492023297037, 0.9672379032258065, 0.9537131230925737, 0.8925914680431152, 0.8863035430988895, 0.9676646706586827, 0.9208563535911602, 0.9518137520303195, 0.9656419529837251, 0.8543689320388349, 0.8912071535022354, 0.9774436090225563, 0.8519736842105263, 0.9764705882352941, 0.9813953488372092, 0.863905325443787, 0.9812646370023419])"
      ]
     },
     "execution_count": 147,
     "metadata": {},
     "output_type": "execute_result"
    }
   ],
   "source": [
    "tuple_accuracy_H"
   ]
  },
  {
   "cell_type": "markdown",
   "metadata": {},
   "source": [
    "Accuracy(unweighted=0.9075402298850574, weighted=0.8833136153893091, worst=0.0, accuracy_classes=[0.9325095057034221, 0.9342871613066599, 0.9627016129032258, 0.9605798575788402, 0.8006679823895552, 0.9132734003172924, 0.9640718562874252, 0.9077348066298343, 0.9703573362208987, 0.9674502712477396, 0.9435127978817299, 0.8584202682563339, 0.961038961038961, 0.9210526315789473, 0.9764705882352941, 0.9348837209302325, 0.0, 0.990632318501171])"
   ]
  },
  {
   "cell_type": "markdown",
   "metadata": {},
   "source": [
    "# training with fine labels and hierarchy"
   ]
  },
  {
   "cell_type": "code",
   "execution_count": 148,
   "metadata": {},
   "outputs": [
    {
     "name": "stdout",
     "output_type": "stream",
     "text": [
      "training: 100%|██████████| 10/10 [08:06<00:00, 48.67s/it]\n"
     ]
    }
   ],
   "source": [
    "scanvi = SCANVI(gene_dataset.nb_genes, gene_dataset.n_batches, gene_dataset.n_labels, n_layers=2,\n",
    "                labels_groups=gene_dataset.labels_groups,use_labels_groups=True)\n",
    "scanvi.load_state_dict(vae_posterior.model.state_dict(), strict=False)\n",
    "trainer_scanvi = SemiSupervisedTrainer(scanvi, gene_dataset, classification_ratio=50,\n",
    "                                       n_epochs_classifier=1, lr_classification=5 * 1e-3, n_labelled_samples_per_class=50)\n",
    "trainer_scanvi.train(n_epochs=10)\n",
    "full_hierarch = trainer_scanvi.create_posterior(trainer_scanvi.model, gene_dataset)"
   ]
  },
  {
   "cell_type": "code",
   "execution_count": 149,
   "metadata": {},
   "outputs": [],
   "source": [
    "y_pred = full_hierarch.compute_predictions()[1]\n",
    "hierarch_accuracy = compute_accuracy_tuple(gene_dataset.labels, y_pred)\n",
    "\n",
    "y_pred_H = np.array([gene_dataset.labels_groups[x] for x in y_pred])\n",
    "hierarch_accuracy_H = compute_accuracy_tuple(gene_dataset.groups, y_pred_H)"
   ]
  },
  {
   "cell_type": "code",
   "execution_count": 150,
   "metadata": {},
   "outputs": [
    {
     "data": {
      "text/plain": [
       "Accuracy(unweighted=0.6686283524904215, weighted=0.6988227316884462, worst=0.0, accuracy_classes=[0.2773972602739726, 1.0, 0.8028534370946823, 0.765625, 0.8095238095238095, 0.7762237762237763, 0.9447779111644657, 0.7717842323651453, 0.3124042879019908, 0.7100591715976331, 0.9550173010380623, 0.9764705882352941, 0.47701149425287354, 1.0, 0.8240942819729375, 0.4944029850746269, 0.5408521303258146, 0.7941176470588235, 0.6699751861042184, 0.3693737769080235, 0.4880952380952381, 0.8188010899182562, 0.7548387096774194, 0.8705035971223022, 0.9147982062780269, 0.2469437652811736, 0.8467042497831744, 0.9629629629629629, 0.7020312237703542, 0.5546218487394958, 0.20100502512562815, 0.6471863348651695, 0.8383233532934131, 0.30256410256410254, 0.22911051212938005, 0.9631901840490797, 0.7024793388429752, 0.5294117647058824, 0.782608695652174, 0.9545454545454546, 0.9591836734693877, 0.9357638888888888, 0.6701512455516014, 0.7322834645669292, 0.3177966101694915, 0.6104245029554003, 0.4973707274320771, 0.8453947368421053, 0.6202143950995406, 0.0, 0.5752427184466019, 0.8761682242990654, 0.9645390070921985, 0.5075885328836425, 0.8368421052631579, 0.6384615384615384, 0.9882629107981221, 0.9267241379310345, 0.7189189189189189, 0.9363166953528399, 0.640481245576787, 0.8373205741626795, 0.8076923076923077])"
      ]
     },
     "execution_count": 150,
     "metadata": {},
     "output_type": "execute_result"
    }
   ],
   "source": [
    "hierarch_accuracy"
   ]
  },
  {
   "cell_type": "markdown",
   "metadata": {},
   "source": [
    "Accuracy(unweighted=0.7656551724137931, weighted=0.7797103862755822, worst=0.0, accuracy_classes=[0.5445205479452054, 1.0, 0.880674448767834, 0.984375, 0.8015873015873016, 0.8391608391608392, 0.9279711884753902, 0.0, 0.49157733537519144, 0.1893491124260355, 0.9543252595155709, 0.9764705882352941, 0.8218390804597702, 1.0, 0.8804015713662157, 0.664179104477612, 0.5744360902255639, 1.0, 0.7866004962779156, 0.7157534246575342, 0.6875, 0.7806539509536785, 0.832258064516129, 0.8776978417266187, 0.9730941704035875, 0.44254278728606355, 0.8514744145706852, 0.5925925925925926, 0.6540204801074366, 0.7310924369747899, 0.4723618090452261, 0.8142720887886933, 0.9161676646706587, 0.36153846153846153, 0.6657681940700808, 0.9754601226993865, 0.7768595041322314, 0.836441893830703, 0.8985507246376812, 0.974025974025974, 1.0, 0.9513888888888888, 0.685720640569395, 0.8031496062992126, 0.6836158192090396, 0.8957549704459967, 0.7193251533742331, 0.8585526315789473, 0.891271056661562, 0.0, 0.8689320388349514, 0.8520249221183801, 0.9929078014184397, 0.7774030354131535, 0.8736842105263158, 0.8538461538461538, 0.9835680751173709, 0.9396551724137931, 0.7783783783783784, 0.9586919104991394, 0.8138711960368011, 0.8308796466691204, 0.9615384615384616])"
   ]
  },
  {
   "cell_type": "code",
   "execution_count": 151,
   "metadata": {},
   "outputs": [
    {
     "data": {
      "text/plain": [
       "Accuracy(unweighted=0.8983448275862068, weighted=0.9096598747643758, worst=0.7100591715976331, accuracy_classes=[0.8298479087452472, 0.8942137249936692, 0.9788306451612904, 0.9692268565615463, 0.8872020646728405, 0.8633879781420765, 0.9820359281437125, 0.8479281767955801, 0.958040064970222, 0.9638336347197106, 0.9223300970873787, 0.7928464977645305, 0.9685577580314423, 0.8453947368421053, 0.9764705882352941, 0.9906976744186047, 0.7100591715976331, 0.9929742388758782])"
      ]
     },
     "execution_count": 151,
     "metadata": {},
     "output_type": "execute_result"
    }
   ],
   "source": [
    "hierarch_accuracy_H"
   ]
  },
  {
   "cell_type": "markdown",
   "metadata": {},
   "source": [
    "Accuracy(unweighted=0.9136858237547892, weighted=0.8935702016840659, worst=0.1893491124260355, accuracy_classes=[0.8498098859315589, 0.9342238541402886, 0.9672379032258065, 0.9745676500508647, 0.8667071504478518, 0.9309007579763794, 0.9748502994011976, 0.862292817679558, 0.9681916621548456, 0.972875226039783, 0.9611650485436893, 0.8464977645305514, 0.9692412850307587, 0.8585526315789473, 0.9764705882352941, 0.9906976744186047, 0.1893491124260355, 0.990632318501171])"
   ]
  },
  {
   "cell_type": "code",
   "execution_count": 167,
   "metadata": {},
   "outputs": [
    {
     "data": {
      "image/png": "[encoded data removed]",
      "text/plain": [
       "<Figure size 432x216 with 2 Axes>"
      ]
     },
     "metadata": {},
     "output_type": "display_data"
    }
   ],
   "source": [
    "plt.figure(figsize=(6, 3))\n",
    "plt.subplot(121)\n",
    "plt.bar([1, 2, 3], height=[0.8949885057471264, 0.9075402298850574 , 0.9136858237547892])\n",
    "plt.xticks([1, 2, 3], [\"Coarse\", \"Fine\", \"Hierarchical\"])\n",
    "plt.ylabel(\"Coarse Accuracy\")\n",
    "plt.subplot(122)\n",
    "plt.bar([2, 3], height=[0.6688429118773946 , 0.7656551724137931])\n",
    "plt.xticks([1, 2, 3], [\"\", \"Fine\", \"Hierarchical\"])\n",
    "plt.ylabel(\"Fine Accuracy\")\n",
    "plt.tight_layout()\n",
    "plt.savefig(\"hierarch_accuracy.pdf\", transparency=True)"
   ]
  },
  {
   "cell_type": "code",
   "execution_count": null,
   "metadata": {},
   "outputs": [],
   "source": []
  }
 ],
 "metadata": {
  "kernelspec": {
   "display_name": "Python [conda env:pytorch_p36]",
   "language": "python",
   "name": "conda-env-pytorch_p36-py"
  },
  "language_info": {
   "codemirror_mode": {
    "name": "ipython",
    "version": 3
   },
   "file_extension": ".py",
   "mimetype": "text/x-python",
   "name": "python",
   "nbconvert_exporter": "python",
   "pygments_lexer": "ipython3",
   "version": "3.6.7"
  }
 },
 "nbformat": 4,
 "nbformat_minor": 2
}
